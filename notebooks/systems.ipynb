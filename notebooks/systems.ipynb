{
 "cells": [
  {
   "cell_type": "code",
   "execution_count": null,
   "metadata": {},
   "outputs": [],
   "source": [
    "using AcausalNets\n",
    "using LightGraphs\n",
    "using QI\n",
    "using LinearAlgebra"
   ]
  },
  {
   "cell_type": "code",
   "execution_count": null,
   "metadata": {},
   "outputs": [],
   "source": [
    "roA = Diagonal([1/3, 1/3, 1/3])\n",
    "\n",
    "roB = Diagonal([1/3, 1/3, 1/3])\n",
    "roCwAB = Diagonal([\n",
    "        0,1/2, 1/2, #A=0, B=0\n",
    "        0,0,1, #A=0, B=1\n",
    "        #CHANGED to that ro(C | AB) != ro(C | BA) - Originally BE 0,1,0\n",
    "        0,1/2,0, #A=0, B=2 \n",
    "        0,0,1, #A=1, B=0\n",
    "        1/2,0,1/2, #A=1, B=1\n",
    "        1,0,0, #A=1, B=2\n",
    "        0,1,0, #A=2, B=0\n",
    "        1,0,0, #A=2, B=1\n",
    "        1/2,1/2,0 #A=2, B=2\n",
    "        ]); #\n",
    "\n",
    "\n",
    "var_a = Variable(:a, 3)\n",
    "\n",
    "var_b = Variable(:b, 3)\n",
    "var_c = Variable(:c, 3)\n",
    "\n",
    "sys_a = DiscreteQuantumSystem([var_a], roA)\n",
    "\n",
    "sys_b = DiscreteQuantumSystem([var_b], roB)\n",
    "\n",
    "sys_c_ab = DiscreteQuantumSystem([var_a, var_b], [var_c], roCwAB)\n",
    "an = AcausalNet()\n",
    "\n",
    "push!(an, sys_a)\n",
    "push!(an, sys_b)\n",
    "push!(an, sys_c_ab)\n",
    "# show(an)"
   ]
  },
  {
   "cell_type": "code",
   "execution_count": null,
   "metadata": {},
   "outputs": [],
   "source": [
    "# the original matrix is ro(C | AB)\n",
    "# this is ro(C | BA)\n",
    "roCwBA = permute_systems(roCwAB, [3,3,3], [2, 1, 3])\n",
    "print(roCwBA == roCwAB)\n",
    "sys_c_ba = DiscreteQuantumSystem([var_b, var_a], [var_c], roCwBA)\n",
    "\n",
    "# joint system (a, a2) where a and a2 are independent\n",
    "# ncategories a = 3\n",
    "# ncategories a2 = 2\n",
    "\n",
    "roAA2 = Diagonal([1/6, 1/6, 1/6, 1/6, 1/6, 1/6])\n",
    "var_a2 = Variable(:a2, 2)\n",
    "sys_aa2 = DiscreteQuantumSystem([var_a, var_a2], roAA2)\n",
    "\n",
    "an_2 = AcausalNet()\n",
    "push!(an_2, sys_aa2)\n",
    "push!(an_2, sys_b)\n",
    "\n",
    "# we push a system with roCwBA\n",
    "# during push, it's parents will be expanded to include var_a2 \n",
    "# (since it's in joint state with var_a)\n",
    "# and the parents will be permuted to bein the same order \n",
    "# as the BayesNet's order of variables\n",
    "# before ppermutation their order is: a2, b, a\n",
    "# after permutation their order is: a, a2, b\n",
    "push!(an_2, sys_c_ba)\n",
    "# show(an_2)"
   ]
  },
  {
   "cell_type": "code",
   "execution_count": null,
   "metadata": {},
   "outputs": [],
   "source": [
    "c_system = an_2.systems[variable_to_node(an_2, var_c)]\n",
    "roC_AA2B = c_system.distribution\n",
    "\n",
    "traced_out = ptrace(roC_AA2B, [3,2,3,3], [2]) / var_a2.ncategories\n",
    "\n",
    "traced_out == roCwAB"
   ]
  },
  {
   "cell_type": "code",
   "execution_count": null,
   "metadata": {},
   "outputs": [],
   "source": []
  }
 ],
 "metadata": {
  "kernelspec": {
   "display_name": "Julia 1.0.0",
   "language": "julia",
   "name": "julia-1.0"
  },
  "language_info": {
   "file_extension": ".jl",
   "mimetype": "application/julia",
   "name": "julia",
   "version": "1.0.0"
  }
 },
 "nbformat": 4,
 "nbformat_minor": 2
}
