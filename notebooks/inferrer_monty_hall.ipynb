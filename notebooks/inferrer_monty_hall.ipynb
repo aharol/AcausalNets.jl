{
 "cells": [
  {
   "cell_type": "code",
   "execution_count": null,
   "metadata": {},
   "outputs": [],
   "source": [
    "using AcausalNets\n",
    "using QI\n",
    "using LightGraphs\n",
    "using LinearAlgebra\n",
    "import AcausalNets.Inference: infer_naive, infer_naive_debug\n",
    "import AcausalNets.Systems: multiply_star, multiply_kron\n",
    "import AcausalNets.Algebra: star"
   ]
  },
  {
   "cell_type": "markdown",
   "metadata": {},
   "source": [
    "## Setup of variables in the game and the strategy of the player"
   ]
  },
  {
   "cell_type": "code",
   "execution_count": null,
   "metadata": {},
   "outputs": [],
   "source": [
    "var_a = Variable(:a, 3) # the placement of the prize\n",
    "var_b = Variable(:b, 3) # the initial choice of the door by the player\n",
    "var_c = Variable(:c, 3) # the door opened by the host\n",
    "var_d = Variable(:d, 3) # the door opened by the player\n",
    "var_e = Variable(:e, 2) # whether the player has won (0 = lost, 1 = won)\n",
    "\n",
    "# rules of the host\n",
    "roCwAB = Diagonal([\n",
    "        0,1/2,1/2, #A=0, B=0\n",
    "        0,0,1, #A=0, B=1\n",
    "        0,1,0, #A=0, B=2\n",
    "        0,0,1, #A=1, B=0\n",
    "        1/2,0,1/2, #A=1, B=1\n",
    "        1,0,0, #A=1, B=2\n",
    "        0,1,0, #A=2, B=0\n",
    "        1,0,0, #A=2, B=1\n",
    "        1/2,1/2,0 #A=2, B=2\n",
    "        ]); #\n",
    "\n",
    "sys_c_ab = DiscreteQuantumSystem([var_a, var_b], [var_c], roCwAB)\n",
    "\n",
    "# this matrix represents the optimal strategy in classical case \n",
    "# - always changing the choice\n",
    "roDwBC_changing = Diagonal([\n",
    "        0,0,0, # B=0, C=0 (impossible situation)\n",
    "        0,0,1, #B=0, C=1 \n",
    "        0,1,0, #B=0, C=2\n",
    "        0,0,1, #B=1, C=0\n",
    "        0,0,0, #B=1, C=1 (impossible situation)\n",
    "        1,0,0, #B=1, C=2\n",
    "        0,1,0, #B=2, C=0\n",
    "        1,0,0, #B=2, C=1\n",
    "        0,0,0 #B=2, C=2 (impossible situation)\n",
    "        ])\n",
    "# this matrix represents the unoptimal strategy in classical case \n",
    "# - never changing the choice\n",
    "# this matrix could actually be simplified to be roDwB \n",
    "# since in this case, D == B and C is irrelevant\n",
    "# but we'll keep the matrices in the same shape in order to later \n",
    "# test mixed strategies of the player.\n",
    "roDwBC_staying = Diagonal([\n",
    "        0,0,0, # B=0, C=0 (impossible situation)\n",
    "        1,0,0, #B=0, C=1 \n",
    "        1,0,0, #B=0, C=2\n",
    "        0,1,0, #B=1, C=0\n",
    "        0,0,0, #B=1, C=1 (impossible situation)\n",
    "        0,1,0, #B=1, C=2\n",
    "        0,0,1, #B=2, C=0\n",
    "        0,0,1, #B=2, C=1\n",
    "        0,0,0 #B=2, C=2 (impossible situation)\n",
    "        ])\n",
    "\n",
    "sys_d_bc_changing = DiscreteQuantumSystem([var_b, var_c], [var_d], roDwBC_changing)\n",
    "sys_d_bc_staying = DiscreteQuantumSystem([var_b, var_c], [var_d], roDwBC_staying)\n",
    "sys_d_bc = sys_d_bc_changing\n",
    "\n",
    "roEwAD = Diagonal([\n",
    "        0,1, # A=0, D=0 (player wins) \n",
    "        1,0, #A=0, D=1 \n",
    "        1,0, #A=0, D=2\n",
    "        1,0, #A=1, D=0\n",
    "        0,1, #A=1, D=1 (player wins)\n",
    "        1,0, #A=1, D=2 \n",
    "        1,0, #A=2, D=0\n",
    "        1,0, #A=2, D=1\n",
    "        0,1 #A=2, D=2 (player wins)\n",
    "        ])\n",
    "sys_e_ad = DiscreteQuantumSystem([var_a, var_d], [var_e], roEwAD);"
   ]
  },
  {
   "cell_type": "markdown",
   "metadata": {},
   "source": [
    "## Different variations of $\\rho_{AB}$ and so, the game itself"
   ]
  },
  {
   "cell_type": "markdown",
   "metadata": {},
   "source": [
    "### Classic example"
   ]
  },
  {
   "cell_type": "code",
   "execution_count": null,
   "metadata": {},
   "outputs": [],
   "source": [
    "roA_classic = Diagonal([1/3, 1/3, 1/3])\n",
    "sys_a_classic = DiscreteQuantumSystem([var_a], roA_classic)\n",
    "\n",
    "roB_classic = Diagonal([1/3, 1/3, 1/3])\n",
    "sys_b_classic = DiscreteQuantumSystem([var_b], roB_classic)\n",
    "\n",
    "an_classic = AcausalNet()\n",
    "\n",
    "push!(an_classic, sys_a_classic)\n",
    "push!(an_classic, sys_b_classic)\n",
    "push!(an_classic, sys_c_ab)\n",
    "push!(an_classic, sys_d_bc)\n",
    "push!(an_classic, sys_e_ad)\n",
    "show(an_classic)\n",
    "\n",
    "# variables(an_classic)"
   ]
  },
  {
   "cell_type": "markdown",
   "metadata": {},
   "source": [
    "### $a$ and $b$ entangled, so that they always have identical values"
   ]
  },
  {
   "cell_type": "code",
   "execution_count": null,
   "metadata": {},
   "outputs": [],
   "source": [
    "roAB_same =1/3*(ket(0,9)+ket(4,9)+ket(8,9))* (bra(0,9)+bra(4,9)+bra(8,9)) \n",
    "sys_ab_same = DiscreteQuantumSystem([var_a, var_b], roAB_same)\n",
    "\n",
    "an_same = AcausalNet()\n",
    "push!(an_same, sys_ab_same)\n",
    "push!(an_same, sys_c_ab)\n",
    "push!(an_same, sys_d_bc)\n",
    "push!(an_same, sys_e_ad)\n",
    "show(an_same)"
   ]
  },
  {
   "cell_type": "markdown",
   "metadata": {},
   "source": [
    "### $a$ and $b$ entangled, so that they always have different values"
   ]
  },
  {
   "cell_type": "code",
   "execution_count": null,
   "metadata": {},
   "outputs": [],
   "source": [
    "roAB_different = 1/6*(ket(1,9)+ket(3,9))*(bra(1,9)+bra(3,9))+ \n",
    "1/6*(ket(2,9)+ket(6,9))*(bra(2,9)+bra(6,9))+\n",
    "1/6*(ket(5,9)+ket(7,9))*(bra(5,9)+bra(7,9))\n",
    "\n",
    "sys_ab_different = DiscreteQuantumSystem([var_a, var_b], roAB_different)\n",
    "an_different = AcausalNet()\n",
    "\n",
    "push!(an_different, sys_ab_different)\n",
    "push!(an_different, sys_c_ab)\n",
    "push!(an_different, sys_d_bc)\n",
    "push!(an_different, sys_e_ad)\n",
    "show(an_different)"
   ]
  },
  {
   "cell_type": "markdown",
   "metadata": {},
   "source": [
    "## Inference example"
   ]
  },
  {
   "cell_type": "code",
   "execution_count": null,
   "metadata": {},
   "outputs": [],
   "source": [
    "an = an_same\n",
    "inferrer = Inferrer(an)\n",
    "println(variables(inferrer))\n",
    "show(inferrer)"
   ]
  },
  {
   "cell_type": "code",
   "execution_count": null,
   "metadata": {},
   "outputs": [],
   "source": [
    "a = 0\n",
    "b = 0\n",
    "c = 1\n",
    "d = 2\n",
    "e = 0\n",
    "\n",
    "a_obs = Evidence([var_a], ketbra(a,a,3))\n",
    "b_obs = Evidence([var_b], ketbra(b,b,3))\n",
    "c_obs = Evidence([var_c], ketbra(c,c,3))\n",
    "d_obs = Evidence([var_d], ketbra(d,d,3))\n",
    "e_obs = Evidence([var_e], ketbra(e,e,2))\n",
    "\n",
    "observations = Evidence{Matrix{Complex{Float64}}}[\n",
    "#     a_obs,\n",
    "#     b_obs,\n",
    "#     c_obs,\n",
    "#     d_obs,\n",
    "#     e_obs\n",
    "    ] \n",
    "\n",
    "inferred_system = infer(inferrer, [var_e], observations)\n",
    "\n",
    "println([v.name for v in variables(inferred_system)])\n",
    "real(distribution(inferred_system))"
   ]
  },
  {
   "cell_type": "markdown",
   "metadata": {},
   "source": [
    "## Finding the $\\rho_{AB}$ which yields the Nash equilibrium between the player and the host"
   ]
  },
  {
   "cell_type": "code",
   "execution_count": null,
   "metadata": {},
   "outputs": [],
   "source": [
    "function mixed_game_an(\n",
    "        AB_mix::Float64, \n",
    "        DwBC_mix::Float64 = 0.0 # by default, player never changes the door\n",
    "    )\n",
    "    \n",
    "    roAB = roAB_same * AB_mix + roAB_different * (1 - AB_mix)\n",
    "    roDwBC = roDwBC_changing * DwBC_mix + roDwBC_staying * (1 - DwBC_mix)\n",
    "    sys_ab = DiscreteQuantumSystem([var_a, var_b], roAB)\n",
    "    sys_d_bc = DiscreteQuantumSystem([var_b, var_c], [var_d], roDwBC)\n",
    "    \n",
    "    result_an = AcausalNet()\n",
    "    push!(result_an, sys_ab)\n",
    "    push!(result_an, sys_c_ab)\n",
    "    push!(result_an, sys_d_bc)\n",
    "    push!(result_an, sys_e_ad)\n",
    "    result_an, roAB\n",
    "end"
   ]
  },
  {
   "cell_type": "code",
   "execution_count": null,
   "metadata": {},
   "outputs": [],
   "source": [
    "function expected_win_rate(an::AcausalNet)\n",
    "    inferrer = Inferrer(an)\n",
    "    ev = Evidence{Matrix{Complex{Float64}}}[] # evidence placeholder\n",
    "    inferred = infer(inferrer, [var_e], ev)\n",
    "    real(distribution(inferred)) #, debug\n",
    "end"
   ]
  },
  {
   "cell_type": "code",
   "execution_count": null,
   "metadata": {},
   "outputs": [],
   "source": [
    "lambda = 0.5\n",
    "mixed_an, AB= mixed_game_an(lambda)\n",
    "expected_win_rate(mixed_an)"
   ]
  }
 ],
 "metadata": {
  "kernelspec": {
   "display_name": "Julia 0.7.0",
   "language": "julia",
   "name": "julia-0.7"
  },
  "language_info": {
   "file_extension": ".jl",
   "mimetype": "application/julia",
   "name": "julia",
   "version": "0.7.0"
  }
 },
 "nbformat": 4,
 "nbformat_minor": 2
}
