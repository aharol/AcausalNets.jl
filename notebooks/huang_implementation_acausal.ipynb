{
 "cells": [
  {
   "cell_type": "code",
   "execution_count": null,
   "metadata": {},
   "outputs": [],
   "source": [
    "using AcausalNets\n",
    "using QI\n",
    "using LightGraphs\n",
    "using LinearAlgebra"
   ]
  },
  {
   "cell_type": "code",
   "execution_count": null,
   "metadata": {},
   "outputs": [],
   "source": [
    "roA = Diagonal([1/3, 1/3, 1/3])\n",
    "\n",
    "roB = Diagonal([1/3, 1/3, 1/3])\n",
    "roCwAB = Diagonal([\n",
    "        0,1/2, 1/2, #A=0, B=0\n",
    "        0,0,1, #A=0, B=1\n",
    "        #CHANGED to that ro(C | AB) != ro(C | BA) - Originally BE 0,1,0\n",
    "        0,1,0, #A=0, B=2 \n",
    "        0,0,1, #A=1, B=0\n",
    "        1/2,0,1/2, #A=1, B=1\n",
    "        1,0,0, #A=1, B=2\n",
    "        0,1,0, #A=2, B=0\n",
    "        1,0,0, #A=2, B=1|\n",
    "        1/2,1/2,0 #A=2, B=2\n",
    "        ]); #\n",
    "\n",
    "var_a = Variable(:a, 3)\n",
    "\n",
    "var_b = Variable(:b, 3)\n",
    "var_c = Variable(:c, 3)\n",
    "\n",
    "sys_a = DiscreteQuantumSystem([var_a], roA)\n",
    "\n",
    "sys_b = DiscreteQuantumSystem([var_b], roB)\n",
    "\n",
    "sys_c_ab = DiscreteQuantumSystem([var_a, var_b], [var_c], roCwAB)\n",
    "classic_an = AcausalNet()\n",
    "\n",
    "push!(classic_an, sys_a)\n",
    "push!(classic_an, sys_b)\n",
    "push!(classic_an, sys_c_ab)\n",
    "# show(an)"
   ]
  },
  {
   "cell_type": "code",
   "execution_count": null,
   "metadata": {},
   "outputs": [],
   "source": [
    "roAB =1/3*(ket(0,9)+ket(4,9)+ket(8,9))* (bra(0,9)+bra(4,9)+bra(8,9)) \n",
    "\n",
    "roC = Diagonal([\n",
    "        0,1/2,1/2, #A=0, B=0\n",
    "        0,0,1, #A=0, B=1\n",
    "        0,1,0, #A=0, B=2\n",
    "        0,0,1, #A=1, B=0\n",
    "        1/2,0,1/2, #A=1, B=1\n",
    "        1,0,0, #A=1, B=2\n",
    "        0,1,0, #A=2, B=0\n",
    "        1,0,0, #A=2, B=1\n",
    "        1/2,1/2,0 #A=2, B=2\n",
    "        ]); #\n",
    "\n",
    "var_a = Variable(:a, 3)\n",
    "\n",
    "var_b = Variable(:b, 3)\n",
    "var_c = Variable(:c, 3)\n",
    "\n",
    "sys_ab = DiscreteQuantumSystem([var_a, var_b], roAB)\n",
    "sys_c_ab = DiscreteQuantumSystem([var_a, var_b], [var_c], roCwAB)\n",
    "quantum_an = AcausalNet()\n",
    "\n",
    "push!(quantum_an, sys_ab)\n",
    "push!(quantum_an, sys_c_ab)\n",
    "\n",
    "# gplot(Graph(quantum_bn.dag), nodelabel=nodes(quantum_bn))"
   ]
  },
  {
   "cell_type": "code",
   "execution_count": null,
   "metadata": {},
   "outputs": [],
   "source": [
    "roA = Diagonal([.5, .5])\n",
    "roBwA = Diagonal([.5, .5, .4, .6])\n",
    "roCwA = Diagonal([.7, .3, .2, .8])\n",
    "roDwB = Diagonal([.9, .1, .5, .5])\n",
    "roEwC = Diagonal([.3, .7, .6, .4])\n",
    "roFwDE = Diagonal([.01, .99, .01, .99, .01, .99, .99, .01])\n",
    "roGwC = Diagonal([.8, .2, .1, .9])\n",
    "roHwEG = Diagonal([.05, .95, .95, .05, .95, .05, .95, .05])\n",
    "\n",
    "var_a = Variable(:a, 2)\n",
    "var_b = Variable(:b, 2)\n",
    "var_c = Variable(:c, 2)\n",
    "var_d = Variable(:d, 2)\n",
    "var_e = Variable(:e, 2)\n",
    "var_f = Variable(:f, 2)\n",
    "var_g = Variable(:g, 2)\n",
    "var_h = Variable(:h, 2)\n",
    "\n",
    "sys_a = DiscreteQuantumSystem([var_a], roA)\n",
    "sys_b = DiscreteQuantumSystem([var_a], [var_b], roBwA)\n",
    "sys_c = DiscreteQuantumSystem([var_a], [var_c], roCwA)\n",
    "sys_d = DiscreteQuantumSystem([var_b], [var_d], roDwB)\n",
    "sys_e = DiscreteQuantumSystem([var_c], [var_e], roEwC)\n",
    "sys_f = DiscreteQuantumSystem([var_d, var_e], [var_f], roFwDE)\n",
    "sys_g = DiscreteQuantumSystem([var_c], [var_g], roGwC)\n",
    "sys_h = DiscreteQuantumSystem([var_e, var_g], [var_h], roHwEG)\n",
    "\n",
    "\n",
    "example_an = AcausalNet()\n",
    "push!(example_an, sys_a)\n",
    "push!(example_an, sys_b)\n",
    "push!(example_an, sys_c)\n",
    "push!(example_an, sys_d)\n",
    "push!(example_an, sys_e)\n",
    "push!(example_an, sys_f)\n",
    "push!(example_an, sys_h)\n",
    "\n",
    "# gplot(example_bn.dag, nodelabel=nodes(example_bn))\n",
    "# [v.target for v in example_bn.cpds]\n"
   ]
  },
  {
   "cell_type": "code",
   "execution_count": null,
   "metadata": {},
   "outputs": [],
   "source": [
    "# roA = Diagonal([.5, .5])\n",
    "\n",
    "# roBwA = Diagonal([.5, .5, .5, .5])\n",
    "\n",
    "# roCwB = Diagonal([.5, .5, .5, .5])\n",
    "\n",
    "# roDwC = Diagonal([.5, .5, .5, .5])\n",
    "# |\n",
    "# sys_a = DiscreteQuantumSystem([var_a], roA)\n",
    "# sys_b = DiscreteQuantumSystem([var_a], [var_b], roBwA)\n",
    "# sys_c = DiscreteQuantumSystem([var_b], [var_c], roCwB)\n",
    "# sys_d = DiscreteQuantumSystem([var_c], [var_d], roDwC)\n",
    "\n",
    "# snake_an = AcausalNet()\n",
    "# push!(snake_an, sys_a)\n",
    "# push!(snake_an, sys_b)\n",
    "# push!(snake_an, sys_c)\n",
    "# push!(snake_an, sys_d)\n",
    "\n",
    "# # gplot(snake_an.dag, nodelabel=nodes(snake_bn))"
   ]
  },
  {
   "cell_type": "code",
   "execution_count": null,
   "metadata": {},
   "outputs": [],
   "source": [
    "import AcausalNets.Structures: DiscreteBayesNet"
   ]
  },
  {
   "cell_type": "code",
   "execution_count": null,
   "metadata": {},
   "outputs": [],
   "source": [
    "function parent_systems(ds::S, dbn::DiscreteBayesNet) where S\n",
    "    result = S[]\n",
    "    for p in parents(ds)\n",
    "        parent_system = systems(dbn)[variable_to_node(p, dbn)]\n",
    "        if !(parent_system in result)\n",
    "            push!(result, parent_system)\n",
    "        end\n",
    "    end\n",
    "    return result\n",
    "end\n"
   ]
  },
  {
   "cell_type": "code",
   "execution_count": 1,
   "metadata": {},
   "outputs": [
    {
     "ename": "LoadError",
     "evalue": "UndefVarError: Graph not defined",
     "output_type": "error",
     "traceback": [
      "UndefVarError: Graph not defined",
      "",
      "Stacktrace:",
      " [1] top-level scope at none:0"
     ]
    }
   ],
   "source": [
    "const MoralGraph = Graph\n",
    "\n",
    "function moral_graph(dbn::DiscreteBayesNet)::MoralGraph\n",
    "    result = MoralGraph(deepcopy(dbn.dag))\n",
    "    for sys in systems(dbn)\n",
    "        for p1 in parent_systems(sys, dbn)\n",
    "            for p2 in parent_systems(sys, dbn)\n",
    "                p1_ind = system_to_node(p1, dbn)\n",
    "                p2_ind = system_to_node(p2, dbn)\n",
    "                if(p1_ind!=p2_ind)\n",
    "                    add_edge!(result, p1_ind, p2_ind)\n",
    "                end\n",
    "            end\n",
    "        end\n",
    "    end\n",
    "    return result\n",
    "end\n"
   ]
  },
  {
   "cell_type": "code",
   "execution_count": null,
   "metadata": {},
   "outputs": [],
   "source": [
    "an = example_an\n",
    "moral_an = moral_graph(an)\n",
    "print(ne(moral_an))\n",
    "# gplot(moral_bn, nodelabel=nodes(bn))\n",
    "println(moral_an.fadjlist)\n",
    "println(variables_names(an))"
   ]
  },
  {
   "cell_type": "code",
   "execution_count": null,
   "metadata": {},
   "outputs": [],
   "source": [
    "import AcausalNets.Common: is_subset"
   ]
  },
  {
   "cell_type": "code",
   "execution_count": null,
   "metadata": {},
   "outputs": [],
   "source": [
    "const TriangulatedGraph = Graph\n",
    "\n",
    "function triangulate(mg::MoralGraph, dbn::DiscreteBayesNet{S})::Tuple{TriangulatedGraph, Vector{Vector{S}}} where S\n",
    "    mg_copy = [false for _ in vertices(mg)]\n",
    "    mg = deepcopy(mg)\n",
    "    nl = systems(dbn)\n",
    "    cliques = Set[]\n",
    "    while(!all(mg_copy))\n",
    "        least_edges_to_be_added = Inf\n",
    "        chosen_vertex = 0\n",
    "        chosen_clique = Set()\n",
    "        for v=1:length(mg_copy)\n",
    "            if mg_copy[v]\n",
    "                continue\n",
    "            else\n",
    "                clique = Set()\n",
    "                for e in edges(mg)\n",
    "                    if (v==src(e) || v==dst(e)) && !mg_copy[src(e)] && !mg_copy[dst(e)]\n",
    "                        push!(clique, src(e))\n",
    "                        push!(clique, dst(e))\n",
    "                    end\n",
    "                end\n",
    "                edges_todo = 0\n",
    "                for v1 in clique\n",
    "                    for v2 in clique\n",
    "                        if v1 != v2 && !in((v1, v2), edges(mg))\n",
    "                            edges_todo +=1\n",
    "                        end\n",
    "                    end\n",
    "                end\n",
    "                edges_todo /= 2\n",
    "\n",
    "                if edges_todo < least_edges_to_be_added ||\n",
    "                    ((edges_todo == least_edges_to_be_added) &&\n",
    "                        (prod([ncategories(systems(dbn)[n]) for n in clique]) <= prod([ncategories(systems(dbn)[n]) for n in chosen_clique])))\n",
    "                    least_edges_to_be_added = edges_todo\n",
    "                    chosen_vertex = v\n",
    "                    chosen_clique = clique\n",
    "                end\n",
    "            end\n",
    "        end\n",
    "        chosen_nodes = Set([nl[n] for n in chosen_clique])\n",
    "        if !any([is_subset(chosen_nodes, clique) for clique in cliques])\n",
    "            push!(cliques, chosen_nodes)\n",
    "        end\n",
    "        mg_copy[chosen_vertex] = true\n",
    "        for v1 in chosen_clique\n",
    "            for v2 in chosen_clique\n",
    "                if v1 != v2 && !in((v1, v2), edges(mg))\n",
    "                    add_edge!(mg, v1, v2)\n",
    "                end\n",
    "            end\n",
    "        end\n",
    "    end\n",
    "    cliques = [sort([c for c in clique], by=c -> system_to_node(c, dbn)) for clique in cliques]\n",
    "    return mg, cliques\n",
    "end"
   ]
  },
  {
   "cell_type": "code",
   "execution_count": null,
   "metadata": {},
   "outputs": [],
   "source": [
    "println(ne(moral_an))\n",
    "\n",
    "tri_moral_an, cliques = triangulate(moral_an,an)\n",
    "println(ne(tri_moral_an))\n",
    "\n",
    "# before, cliques were sets\n",
    "# they are now transformed to vectors and their ordering is the same \n",
    "# as in their bayes_net DAG\n",
    "# println(cliques)\n",
    "# gplot(tri_moral_an ,nodelabel=nodes(an))\n",
    "\n",
    "println(tri_moral_an.fadjlist)\n",
    "println(variables_names(an))"
   ]
  },
  {
   "cell_type": "code",
   "execution_count": null,
   "metadata": {},
   "outputs": [],
   "source": [
    "import AcausalNets.Systems:\n",
    "    DiscreteSystem"
   ]
  },
  {
   "cell_type": "code",
   "execution_count": null,
   "metadata": {},
   "outputs": [],
   "source": [
    "struct JoinTree{S <: DiscreteSystem}\n",
    "    graph::Graph\n",
    "    vertex_to_cluster::Dict{Int64, S}\n",
    "    edge_to_sepset::Dict{Set{Int}, S}\n",
    "end\n"
   ]
  },
  {
   "cell_type": "code",
   "execution_count": null,
   "metadata": {},
   "outputs": [],
   "source": [
    "function sepset_cost(sepset::Set{DiscreteQuantumSystem}, an::AcausalNet)\n",
    "    weights = [ncategories(s) for s in sepset]\n",
    "    \n",
    "    return 0\n",
    "end"
   ]
  },
  {
   "cell_type": "code",
   "execution_count": null,
   "metadata": {},
   "outputs": [],
   "source": [
    "function sepset_comparator(c1::Vector{S}, c2::Vector{S})::Int64 where S\n",
    "    -length(intersect(c1, c2))\n",
    "end"
   ]
  },
  {
   "cell_type": "code",
   "execution_count": null,
   "metadata": {},
   "outputs": [],
   "source": [
    "function clique_size(clique::Vector{S})::Int64 where S\n",
    "    prod([ncategories(s) for s in clique])\n",
    "end\n"
   ]
  },
  {
   "cell_type": "code",
   "execution_count": null,
   "metadata": {},
   "outputs": [],
   "source": [
    "family(ds::S, dbn::DiscreteBayesNet{S}) where {S} = union(Set([ds]), Set(parent_systems(ds, dbn)))"
   ]
  },
  {
   "cell_type": "code",
   "execution_count": null,
   "metadata": {},
   "outputs": [],
   "source": [
    "function parent_cliques_dict(cliques::Vector{Vector{S}}, dbn::DiscreteBayesNet{S})::Dict{S, Vector{S}} where S\n",
    "    Dict([\n",
    "        sys => first([\n",
    "            c for c in cliques if is_subset(family(sys, dbn), Set(c))\n",
    "            ])\n",
    "        for sys in systems(dbn)\n",
    "    ])\n",
    "end"
   ]
  },
  {
   "cell_type": "code",
   "execution_count": null,
   "metadata": {},
   "outputs": [],
   "source": [
    "pr_cli_dict = parent_cliques_dict(cliques, an)\n",
    "\n",
    "for sys in keys(pr_cli_dict)\n",
    "    println(variables_names(sys), \" => \", [variables_names(s) for s in pr_cli_dict[sys]])\n",
    "end"
   ]
  },
  {
   "cell_type": "code",
   "execution_count": null,
   "metadata": {},
   "outputs": [],
   "source": [
    "import AcausalNets.Systems: identity_distribution"
   ]
  },
  {
   "cell_type": "code",
   "execution_count": null,
   "metadata": {},
   "outputs": [],
   "source": [
    "Diagonal <: AbstractArray{T,2} where T"
   ]
  },
  {
   "cell_type": "code",
   "execution_count": null,
   "metadata": {},
   "outputs": [],
   "source": [
    "distribution(ds::DiscreteSystem) = ds.distribution"
   ]
  },
  {
   "cell_type": "code",
   "execution_count": null,
   "metadata": {},
   "outputs": [],
   "source": [
    "import AcausalNets.Systems: QuantumDistribution\n",
    "import AcausalNets.Algebra: star, unstar"
   ]
  },
  {
   "cell_type": "code",
   "execution_count": null,
   "metadata": {},
   "outputs": [],
   "source": [
    "multiply_star(d1::QuantumDistribution, d2::QuantumDistribution) = star(d1, d2)"
   ]
  },
  {
   "cell_type": "code",
   "execution_count": null,
   "metadata": {},
   "outputs": [],
   "source": [
    "divide_star(d1::QuantumDistribution, d2::QuantumDistribution) = unstar(d1, d2)"
   ]
  },
  {
   "cell_type": "code",
   "execution_count": null,
   "metadata": {},
   "outputs": [],
   "source": [
    "multiply_kron(d1::QuantumDistribution, d2::QuantumDistribution) = kron(d1, d2)"
   ]
  },
  {
   "cell_type": "code",
   "execution_count": null,
   "metadata": {},
   "outputs": [],
   "source": [
    "function permute_distribution(d::QuantumDistribution, dimensions::Vector{Int64}, order::Vector{Int64})\n",
    "    permute_systems(d, dimensions, order)\n",
    "end"
   ]
  },
  {
   "cell_type": "code",
   "execution_count": null,
   "metadata": {},
   "outputs": [],
   "source": [
    "function reduce_distribution(d::QuantumDistribution, dimensions::Vector{Int64}, reduce_ind::Vector{Int64})\n",
    "    if length(reduce_ind) > 0 \n",
    "        ptrace(d, dimensions, reduce_ind)\n",
    "    else\n",
    "        d\n",
    "    end\n",
    "end"
   ]
  },
  {
   "cell_type": "code",
   "execution_count": null,
   "metadata": {},
   "outputs": [],
   "source": [
    "Int64[x for x in [1,2,4]]"
   ]
  },
  {
   "cell_type": "code",
   "execution_count": null,
   "metadata": {},
   "outputs": [],
   "source": [
    "invperm(vcat(Int64[1, 2, 4, 3], Int64[]))"
   ]
  },
  {
   "cell_type": "code",
   "execution_count": null,
   "metadata": {},
   "outputs": [],
   "source": [
    "function merge_systems(systems::Vector{S})::S where {D, S<:DiscreteSystem{D}}\n",
    "    all_variables = Variable[]\n",
    "    all_parents = Variable[]\n",
    "    for s in systems\n",
    "        for v in variables(s)\n",
    "            !(v in all_variables) || error(\"$v duplicated!\")\n",
    "            push!(all_variables, v)\n",
    "        end\n",
    "    end\n",
    "    for s in systems\n",
    "        for p in parents(s)\n",
    "            if !(p in all_variables) && (p in all_parents)\n",
    "                push!(all_parents, p)\n",
    "            end\n",
    "        end\n",
    "    end\n",
    "    all_relevant_variables = vcat(all_parents, all_variables)\n",
    "    target_size = prod([ncategories(v) for v in all_relevant_variables])\n",
    "    result_distribution = identity_distribution(D, target_size)\n",
    "    \n",
    "    for sys in systems\n",
    "        sys_distribution = distribution(sys)\n",
    "        sys_variables = relevant_variables(sys)\n",
    "        sys_indices = Int64[\n",
    "            findfirst([v == var for var in all_relevant_variables]) \n",
    "            for v in sys_variables\n",
    "            ]\n",
    "        sys_dimensions = [ncategories(v) for v in sys_variables]\n",
    "        \n",
    "        other_variables = [v for v in all_relevant_variables if !(v in sys_variables)]\n",
    "        other_indices = Int64[\n",
    "            findfirst([v == var for var in all_relevant_variables]) \n",
    "            for v in other_variables\n",
    "            ]\n",
    "        other_dimensions = [ncategories(v) for v in other_variables]\n",
    "        other_distribution = identity_distribution(D, prod(other_dimensions))\n",
    "        \n",
    "        factor_distribution = multiply_kron(sys_distribution, other_distribution)        \n",
    "        factor_indices = vcat(sys_indices, other_indices)\n",
    "        factor_dimensions = vcat(sys_dimensions, other_dimensions)\n",
    "        \n",
    "#         println(sys_variables)\n",
    "#         println(\"sys $sys_indices\")\n",
    "#         println(\"other $other_indices\")\n",
    "#         println(\"factor $factor_indices\")\n",
    "#         println(\"dim_sys $(size(sys_distribution))\")        \n",
    "#         println(\"dim_other $(size(other_distribution))\")\n",
    "#         println()\n",
    "        right_order = invperm(factor_indices)\n",
    "        ordered_distribution = permute_distribution(factor_distribution, factor_dimensions, right_order)\n",
    "        result_distribution = multiply_star(ordered_distribution, result_distribution)\n",
    "    end\n",
    "#     println(\"-------\")\n",
    "    DiscreteSystem{D}(all_parents, all_variables, result_distribution)\n",
    "end"
   ]
  },
  {
   "cell_type": "code",
   "execution_count": null,
   "metadata": {},
   "outputs": [],
   "source": [
    "sys_abc = merge_systems([sys_a, sys_b, sys_c])\n",
    "d_abc = distribution(sys_abc)"
   ]
  },
  {
   "cell_type": "code",
   "execution_count": null,
   "metadata": {},
   "outputs": [],
   "source": [
    "ptrace(d_abc, [2,2,2], [3])"
   ]
  },
  {
   "cell_type": "code",
   "execution_count": null,
   "metadata": {},
   "outputs": [],
   "source": [
    "function Cluster(systems::Vector{S})::S where S\n",
    "    all_variables = Variable[]\n",
    "    all_parents = Variable[]\n",
    "    for s in systems\n",
    "        for v in variables(s)\n",
    "            !(v in all_variables) || error(\"$v duplicated!\")\n",
    "            push!(all_variables, v)\n",
    "        end\n",
    "    end  \n",
    "    for s in systems\n",
    "        all([p in all_variables for p in parents(s)]) || \n",
    "            error(\"parents of system $variables(sys) outside cluster!\")\n",
    "    end\n",
    "    merge_systems(systems)\n",
    "end"
   ]
  },
  {
   "cell_type": "code",
   "execution_count": null,
   "metadata": {},
   "outputs": [],
   "source": [
    "function identity_system(system::DiscreteSystem{D})::DiscreteSystem{D} where D\n",
    "    return DiscreteSystem{D}(variables(system), identity_distribution(D, ncategories(system)))\n",
    "end"
   ]
  },
  {
   "cell_type": "code",
   "execution_count": null,
   "metadata": {},
   "outputs": [],
   "source": [
    "function identity_system(::Type{DiscreteSystem{D}}, variables::Vector{Variable})::DiscreteSystem{D} where D\n",
    "    target_size = prod([ncategories(v) for v in variables])\n",
    "    DiscreteSystem{D}(variables, identity_distribution(D, target_size))\n",
    "end"
   ]
  },
  {
   "cell_type": "code",
   "execution_count": null,
   "metadata": {},
   "outputs": [],
   "source": [
    "identity_system(DiscreteQuantumSystem, variables(sys_b)).distribution"
   ]
  },
  {
   "cell_type": "code",
   "execution_count": null,
   "metadata": {},
   "outputs": [],
   "source": [
    "function sys_or_id(system::S, clique::Vector{S}, parent_cliques::Dict{S, Vector{S}})::S where S\n",
    "    if parent_cliques[system] == clique\n",
    "        return system\n",
    "    else\n",
    "        return identity_system(system)\n",
    "    end\n",
    "end"
   ]
  },
  {
   "cell_type": "code",
   "execution_count": null,
   "metadata": {},
   "outputs": [],
   "source": [
    "function JoinTree(cliques::Vector{Vector{S}}, dbn::DiscreteBayesNet{S})::JoinTree{S} where S\n",
    "    candidate_sepsets = []\n",
    "    trees = Dict([c => c for c in cliques])\n",
    "    chosen_sepsets = Set()\n",
    "\n",
    "    parent_cliques = parent_cliques_dict(cliques, dbn)\n",
    "    jt = JoinTree{S}(\n",
    "        Graph(length(cliques)),\n",
    "        Dict([\n",
    "            i => Cluster([sys_or_id(sys, cliques[i], parent_cliques) for sys in cliques[i]])\n",
    "            for i in 1:length(cliques)\n",
    "            ]),\n",
    "        Dict()\n",
    "    )\n",
    "\n",
    "    for c1 = 1:length(cliques)\n",
    "        for c2= 1:length(cliques)\n",
    "            if c1 != c2\n",
    "                push!(candidate_sepsets,(c1, c2))\n",
    "            end\n",
    "        end\n",
    "    end\n",
    "\n",
    "    candidate_sepsets = sort(candidate_sepsets, by=c -> sepset_comparator(cliques[c[1]], cliques[c[2]]))\n",
    "    i = 1\n",
    "    n = length(cliques)\n",
    "\n",
    "    while length(chosen_sepsets) < n-1\n",
    "        i1, i2 = candidate_sepsets[i]\n",
    "        c1, c2 = cliques[i1], cliques[i2]\n",
    "        sepset = intersect(c1, c2)\n",
    "        if (trees[c1] != trees[c2]) && !any([sepset==s for s in chosen_sepsets])\n",
    "            push!(chosen_sepsets, sepset)\n",
    "            trees[c1] = trees[c2] = union(c1, c2)\n",
    "            add_edge!(jt.graph, i1, i2)\n",
    "            sepset_variables = reduce(vcat, [variables(s) for s in sepset])\n",
    "            push!(jt.edge_to_sepset, Set([i1, i2]) => identity_system(S, sepset_variables))\n",
    "        end\n",
    "        i += 1\n",
    "    end\n",
    "    jt\n",
    "end"
   ]
  },
  {
   "cell_type": "code",
   "execution_count": null,
   "metadata": {},
   "outputs": [],
   "source": [
    "jt = JoinTree(cliques, an)\n",
    "\n",
    "jt.vertex_to_cluster[1].variables"
   ]
  },
  {
   "cell_type": "code",
   "execution_count": null,
   "metadata": {},
   "outputs": [],
   "source": [
    "event(system::AbstractMatrix, e::AbstractMatrix) = (e * system * e) / tr(e * system)"
   ]
  },
  {
   "cell_type": "code",
   "execution_count": null,
   "metadata": {},
   "outputs": [],
   "source": [
    "[(c, variables(jt.vertex_to_cluster[c])) for c in keys(jt.vertex_to_cluster)]"
   ]
  },
  {
   "cell_type": "code",
   "execution_count": null,
   "metadata": {},
   "outputs": [],
   "source": [
    "shallowcopy(ds::DiscreteSystem{D}) where D = DiscreteSystem{D}(\n",
    "    parents(ds),\n",
    "    variables(ds),\n",
    "    deepcopy(distribution(ds))\n",
    "    ) "
   ]
  },
  {
   "cell_type": "code",
   "execution_count": null,
   "metadata": {},
   "outputs": [],
   "source": [
    "shallowcopy(jt::JoinTree) = JoinTree(\n",
    "        jt.graph, \n",
    "        Dict([\n",
    "            k => shallowcopy(jt.vertex_to_cluster[k]) for k in keys(jt.vertex_to_cluster)\n",
    "            ]),\n",
    "        Dict([\n",
    "            k => shallowcopy(jt.edge_to_sepset[k]) for k in keys(jt.edge_to_sepset)\n",
    "            ])\n",
    "    )"
   ]
  },
  {
   "cell_type": "code",
   "execution_count": null,
   "metadata": {},
   "outputs": [],
   "source": [
    "shallowcopy(jt)"
   ]
  },
  {
   "cell_type": "code",
   "execution_count": null,
   "metadata": {},
   "outputs": [],
   "source": [
    "import AcausalNets.Algebra: eye"
   ]
  },
  {
   "cell_type": "code",
   "execution_count": null,
   "metadata": {},
   "outputs": [],
   "source": [
    "# from this it would seem that currently node [a, d, c] \n",
    "# holds conditional probability ADCwD\n",
    "\n",
    "a_factor = kron(kron(roA, eye(ncategories(sys_d))), eye(ncategories(sys_c)))\n",
    "c_factor = kron(eye(ncategories(sys_d)), roCwA)\n",
    "c_factor = permute_systems(c_factor, [2,2,2], [2,1,3])\n",
    "ADCwD = star(c_factor, a_factor)\n",
    "tr(ADCwD)\n",
    "ptrace(ADCwD, [2,2,2], [1,2])"
   ]
  },
  {
   "cell_type": "code",
   "execution_count": null,
   "metadata": {},
   "outputs": [],
   "source": [
    "roBwA"
   ]
  },
  {
   "cell_type": "code",
   "execution_count": null,
   "metadata": {},
   "outputs": [],
   "source": [
    "# [a, b, d] holds ABDwA\n",
    "b_factor = kron(roBwA, eye(ncategories(sys_d)))\n",
    "d_factor = kron(eye(ncategories(sys_a)), roDwB)\n",
    "\n",
    "ABDwA = star(b_factor, d_factor)\n",
    "# trace(ABDwA)\n",
    "ptrace(ABDwA, [2,2,2], [3])"
   ]
  },
  {
   "cell_type": "code",
   "execution_count": null,
   "metadata": {},
   "outputs": [],
   "source": [
    "[(c, variables(jt.vertex_to_cluster[c])) for c in keys(jt.vertex_to_cluster)]"
   ]
  },
  {
   "cell_type": "code",
   "execution_count": null,
   "metadata": {},
   "outputs": [],
   "source": [
    "for (k,v) in parent_cliques_dict(cliques, an)\n",
    "    println(variables(k))\n",
    "    println([variables(c) for c in v])\n",
    "    println()\n",
    "end"
   ]
  },
  {
   "cell_type": "markdown",
   "metadata": {},
   "source": [
    "This is a raw message pass"
   ]
  },
  {
   "cell_type": "code",
   "execution_count": null,
   "metadata": {},
   "outputs": [],
   "source": [
    "abc = jt.vertex_to_cluster[6]\n",
    "ptrace(distribution(abc), [2,2,2], [2,3])"
   ]
  },
  {
   "cell_type": "code",
   "execution_count": null,
   "metadata": {},
   "outputs": [],
   "source": [
    "BCd = jt.vertex_to_cluster[5]\n",
    "ptrace(distribution(BCd), [2,2,2], [2,3])"
   ]
  },
  {
   "cell_type": "code",
   "execution_count": null,
   "metadata": {},
   "outputs": [],
   "source": [
    "# message from abc to BCd\n",
    "bc = ptrace(distribution(abc), [2,2,2], [1])"
   ]
  },
  {
   "cell_type": "code",
   "execution_count": null,
   "metadata": {},
   "outputs": [],
   "source": [
    "# fitting the message into BCd\n",
    "bcD = kron(bc, eye(ncategories(sys_d)))"
   ]
  },
  {
   "cell_type": "code",
   "execution_count": null,
   "metadata": {},
   "outputs": [],
   "source": [
    "bcd = star(bcD, distribution(BCd))\n",
    "# ptrace(ABD, [2,2,2], [2,3])\n",
    "tr(bcd)\n",
    "ptrace(bcd, [2,2,2], [1,2])"
   ]
  },
  {
   "cell_type": "code",
   "execution_count": null,
   "metadata": {},
   "outputs": [],
   "source": [
    "function single_message_pass(from_ind::Int, to_ind::Int, jt::JoinTree{S}) where S\n",
    "    if (from_ind, to_ind) in edges(jt.graph)\n",
    "        jt = shallowcopy(jt)\n",
    "        cluster_from = jt.vertex_to_cluster[from_ind]\n",
    "        cluster_to = jt.vertex_to_cluster[to_ind]\n",
    "        edge_set = Set([from_ind, to_ind])\n",
    "        sepset = jt.edge_to_sepset[edge_set]\n",
    "#         println(\"message from $(variables(cluster_from)), to $(variables(cluster_to))\")\n",
    "#         println(\"through $(variables(sepset))\")\n",
    "#         println(cluster_from, \" \", sepset, \" \", cluster_to)\n",
    "        to_trace_out_vars = setdiff(variables(cluster_from), variables(sepset))\n",
    "        to_trace_out_ind = Int64[\n",
    "            findfirst([v==var for var in variables(cluster_from)]) for v in to_trace_out_vars\n",
    "            ]\n",
    "#         println(\"trace_out \", to_trace_out_ind)\n",
    "        from_variables_sizes = [ncategories(v) for v in variables(cluster_from)]\n",
    "#         println(from_variables_sizes)\n",
    "        from_distribution = distribution(cluster_from)\n",
    "        old_sepset_distribution = distribution(sepset)\n",
    "        new_sepset_distribution = reduce_distribution(\n",
    "            distribution(cluster_from), from_variables_sizes, to_trace_out_ind\n",
    "        )\n",
    "#         println(new_sepset_num)\n",
    "#         println(old_sepset_num)\n",
    "        \n",
    "#         println(jt.edge_to_num[Set([from_ind, to_ind])])\n",
    "        sepset = S(variables(sepset), new_sepset_distribution)\n",
    "        jt.edge_to_sepset[edge_set] = sepset\n",
    "#         println(jt.edge_to_num[Set([from_ind, to_ind])])\n",
    "        \n",
    "        to_distribution = distribution(cluster_to)\n",
    "        \n",
    "#         message = event(old_sepset_num, new_sepset_num) \n",
    "        message = divide_star(new_sepset_distribution, old_sepset_distribution)\n",
    "        \n",
    "        message_vars = variables(sepset)\n",
    "        non_message_vars = setdiff(variables(cluster_to), message_vars)\n",
    "        non_message_size = prod([ncategories(v) for v in non_message_vars])     \n",
    "#         println(message_sym)\n",
    "        message = multiply_kron(\n",
    "            message, identity_distribution(typeof(message), non_message_size)\n",
    "        )\n",
    "        message_all_vars = vcat(message_vars, non_message_vars)\n",
    "#         println(message_sym)        println(\"all_vars $message_all_vars\")\n",
    "#         println(\"message_vars $message_vars\")\n",
    "#         println(\"non_message_vars $non_message_vars\")\n",
    "#         println(\"all_vars $message_all_vars\")\n",
    "        message_sorted_indices = Int64[\n",
    "            findfirst([v==var for var in variables(cluster_to)]) \n",
    "            for v in message_all_vars\n",
    "            ]\n",
    "                                       \n",
    "#         println(message_sorted_inds) \n",
    "        message_dims = [ncategories(v) for v in message_all_vars]\n",
    "        message_ordered = permute_distribution(message, message_dims, message_sorted_indices)\n",
    "        cluster_to = S(variables(cluster_to), multiply_star(to_distribution, message_ordered))\n",
    "        jt.vertex_to_cluster[to_ind] = cluster_to\n",
    "    end\n",
    "#     println()\n",
    "    return jt\n",
    "end"
   ]
  },
  {
   "cell_type": "code",
   "execution_count": null,
   "metadata": {},
   "outputs": [],
   "source": [
    "single_message_pass(6, 5, jt)"
   ]
  },
  {
   "cell_type": "code",
   "execution_count": null,
   "metadata": {},
   "outputs": [],
   "source": [
    "[(k, variables(v)) for (k,v) in jt.vertex_to_cluster]"
   ]
  },
  {
   "cell_type": "code",
   "execution_count": null,
   "metadata": {},
   "outputs": [],
   "source": [
    "init_jt.vertex_to_num[5]\n",
    "#bcd\n",
    "ptrace(jt.distributionvertex_to_cluster[5], [2,2,2], [2,3])"
   ]
  },
  {
   "cell_type": "code",
   "execution_count": null,
   "metadata": {},
   "outputs": [],
   "source": [
    "init_jt.vertex_to_num[6]\n",
    "#abc\n",
    "ptrace(init_jt.vertex_to_num[6], [2,2,2], [2,3])"
   ]
  },
  {
   "cell_type": "code",
   "execution_count": null,
   "metadata": {},
   "outputs": [],
   "source": [
    "# bcd -> abc\n",
    "passed = single_message_pass(5, 6, init_jt, an);"
   ]
  },
  {
   "cell_type": "code",
   "execution_count": null,
   "metadata": {},
   "outputs": [],
   "source": [
    "passed.vertex_to_num[5]"
   ]
  },
  {
   "cell_type": "code",
   "execution_count": null,
   "metadata": {},
   "outputs": [],
   "source": [
    "passed.vertex_to_num[6]"
   ]
  },
  {
   "cell_type": "code",
   "execution_count": null,
   "metadata": {},
   "outputs": [],
   "source": [
    "ptrace(passed.vertex_to_num[5], [2,2,2], [2, 3])"
   ]
  },
  {
   "cell_type": "code",
   "execution_count": null,
   "metadata": {},
   "outputs": [],
   "source": [
    "# abc -> bcd \n",
    "passed_2 = single_message_pass(6, 5, passed, an);\n",
    "passed_2.vertex_to_num[5]\n",
    "ptrace(passed_2.vertex_to_num[5], [2,2,2], [1, 3])"
   ]
  },
  {
   "cell_type": "code",
   "execution_count": null,
   "metadata": {},
   "outputs": [],
   "source": [
    "function collect_evidence(cluster_ind::Int, cluster_marks::Vector{Bool}, jt::JoinTree)\n",
    "    jt = shallowcopy(jt)\n",
    "    cluster_marks[cluster_ind] = false\n",
    "    for neighbor in neighbors(jt.graph, cluster_ind)\n",
    "        if cluster_marks[neighbor]\n",
    "#             println(jt.clusters[cluster_ind], \" \", jt.clusters[neighbor])\n",
    "            jt, cluster_marks = collect_evidence(neighbor, cluster_marks, jt)\n",
    "            jt = single_message_pass(neighbor, cluster_ind, jt)\n",
    "            # pass a message from neighbor to cluster_ind\n",
    "        end\n",
    "        \n",
    "    end\n",
    "    jt, cluster_marks\n",
    "    \n",
    "end"
   ]
  },
  {
   "cell_type": "code",
   "execution_count": null,
   "metadata": {},
   "outputs": [],
   "source": [
    "function distribute_evidence(cluster_ind::Int, cluster_marks::Vector{Bool}, jt::JoinTree)\n",
    "    cluster_marks[cluster_ind] = false\n",
    "    for neighbor in neighbors(jt.graph, cluster_ind)\n",
    "        if cluster_marks[neighbor]\n",
    "            jt = single_message_pass(cluster_ind, neighbor, jt)\n",
    "            # pass a message from cluster_ind to neighbor\n",
    "        end\n",
    "    end\n",
    "    for neighbor in neighbors(jt.graph, cluster_ind)\n",
    "        if cluster_marks[neighbor]\n",
    "            jt, cluster_mars = distribute_evidence(neighbor, cluster_marks, jt)\n",
    "        end\n",
    "    end\n",
    "    jt = shallowcopy(jt)\n",
    "    jt, cluster_marks\n",
    "end"
   ]
  },
  {
   "cell_type": "code",
   "execution_count": null,
   "metadata": {},
   "outputs": [],
   "source": [
    "function global_propagation(jt::JoinTree)\n",
    "    jt = shallowcopy(jt)\n",
    "    cluster_marks = [true for k in keys(jt.vertex_to_cluster)]\n",
    "    arbitrary_cluster_ind = 1\n",
    "#     println(\"Collect evidence\")\n",
    "    jt, cluster_marks = collect_evidence(arbitrary_cluster_ind, cluster_marks, jt)\n",
    "    cluster_marks = [true for k in keys(jt.vertex_to_cluster)]\n",
    "#     println(\"Distribute evidence\")\n",
    "    jt, cluster_marks = distribute_evidence(arbitrary_cluster_ind, cluster_marks, jt)\n",
    "    return jt\n",
    "end"
   ]
  },
  {
   "cell_type": "code",
   "execution_count": null,
   "metadata": {},
   "outputs": [],
   "source": [
    "propagated_jt = global_propagation(jt)\n",
    "# propagated_jt = global_propagation(propagated_jt, bn)"
   ]
  },
  {
   "cell_type": "code",
   "execution_count": null,
   "metadata": {},
   "outputs": [],
   "source": [
    "[variables(c) for c in propagated_jt.clusters]"
   ]
  },
  {
   "cell_type": "code",
   "execution_count": null,
   "metadata": {},
   "outputs": [],
   "source": [
    "BCD = propagated_jt.vertex_to_num[5]"
   ]
  },
  {
   "cell_type": "code",
   "execution_count": null,
   "metadata": {},
   "outputs": [],
   "source": [
    "ptrace(BCD, [2,2,2], [1,3])"
   ]
  },
  {
   "cell_type": "code",
   "execution_count": null,
   "metadata": {},
   "outputs": [],
   "source": [
    "ABC = propagated_jt.vertex_to_num[6]"
   ]
  },
  {
   "cell_type": "code",
   "execution_count": null,
   "metadata": {},
   "outputs": [],
   "source": [
    "ptrace(ABD, [2,2,2], [1,2])"
   ]
  },
  {
   "cell_type": "code",
   "execution_count": null,
   "metadata": {},
   "outputs": [],
   "source": [
    "# CDE\n",
    "ptrace(propagated_jt.vertex_to_num[4], [2,2,2], [2,3])\n"
   ]
  },
  {
   "cell_type": "markdown",
   "metadata": {},
   "source": [
    "# To sum everything up"
   ]
  },
  {
   "cell_type": "code",
   "execution_count": null,
   "metadata": {},
   "outputs": [],
   "source": [
    "an = example_an\n",
    "# gplot(bn.dag, nodelabel=nodes(bn))"
   ]
  },
  {
   "cell_type": "code",
   "execution_count": null,
   "metadata": {},
   "outputs": [],
   "source": [
    "moral_g = moral_graph(an)\n",
    "tri_moral_graph, cliques = triangulate(moral_g, an)\n",
    "jt = JoinTree(cliques, an);"
   ]
  },
  {
   "cell_type": "code",
   "execution_count": null,
   "metadata": {},
   "outputs": [],
   "source": [
    "a = 0\n",
    "a_oper = ketbra(a,a,2)\n",
    "assignments = Dict([\n",
    "        var_a => a_oper\n",
    "        ])"
   ]
  },
  {
   "cell_type": "code",
   "execution_count": null,
   "metadata": {},
   "outputs": [],
   "source": [
    "# initialized_jt = initialize(jt, an, assignments)\n",
    "propagated_jt = global_propagation(jt)\n",
    "[(k, variables(v)) for (k,v) in propagated_jt.vertex_to_cluster]"
   ]
  },
  {
   "cell_type": "code",
   "execution_count": null,
   "metadata": {},
   "outputs": [],
   "source": [
    "cde = distribution(propagated_jt.vertex_to_cluster[4])\n",
    "ptrace(cde, [2,2,2], [2])"
   ]
  },
  {
   "cell_type": "code",
   "execution_count": null,
   "metadata": {},
   "outputs": [],
   "source": [
    "ceg = distribution(propagated_jt.vertex_to_cluster[2])\n",
    "ptrace(ceg, [2,2,2], [3])"
   ]
  },
  {
   "cell_type": "code",
   "execution_count": null,
   "metadata": {},
   "outputs": [],
   "source": []
  }
 ],
 "metadata": {
  "celltoolbar": "Attachments",
  "kernelspec": {
   "display_name": "Julia 0.7.0",
   "language": "julia",
   "name": "julia-0.7"
  },
  "language_info": {
   "file_extension": ".jl",
   "mimetype": "application/julia",
   "name": "julia",
   "version": "0.7.0"
  }
 },
 "nbformat": 4,
 "nbformat_minor": 2
}
