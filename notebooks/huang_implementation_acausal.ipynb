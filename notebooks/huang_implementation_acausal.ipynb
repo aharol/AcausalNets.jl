{
 "cells": [
  {
   "cell_type": "code",
   "execution_count": 1,
   "metadata": {},
   "outputs": [
    {
     "name": "stderr",
     "output_type": "stream",
     "text": [
      "┌ Info: Recompiling stale cache file /home/marcin/.julia/compiled/v0.7/AcausalNets/sM5bh.ji for AcausalNets [f45f996a-9c6d-58c4-b63c-9e6370055198]\n",
      "└ @ Base loading.jl:1185\n",
      "┌ Warning: Package AcausalNets does not have QI in its dependencies:\n",
      "│ - If you have AcausalNets checked out for development and have\n",
      "│   added QI as a dependency but haven't updated your primary\n",
      "│   environment's manifest file, try `Pkg.resolve()`.\n",
      "│ - Otherwise you may need to report an issue with AcausalNets\n",
      "└ Loading QI into AcausalNets from project dependency, future warnings for AcausalNets are suppressed.\n",
      "WARNING: Method definition (::Type{QI.Stinespring{T} where T<:(AbstractArray{#s19, 2} where #s19<:Number)})(T<:(AbstractArray{#s19, 2} where #s19<:Number), Int64, Int64) where {T<:(AbstractArray{#s19, 2} where #s19<:Number)} in module QI at /home/marcin/.julia/dev/QI/src/channels.jl:112 overwritten at /home/marcin/.julia/dev/QI/src/channels.jl:228.\n",
      "WARNING: Method definition (::Type{QI.Stinespring{T} where T<:(AbstractArray{#s19, 2} where #s19<:Number)})(T<:(AbstractArray{#s17, 2} where #s17<:Number), Int64, Int64) where {T<:(AbstractArray{#s17, 2} where #s17<:Number)} in module QI at /home/marcin/.julia/dev/QI/src/channels.jl:228 overwritten at /home/marcin/.julia/dev/QI/src/channels.jl:112.\n",
      "WARNING: Method definition (::Type{QI.Stinespring{T} where T<:(AbstractArray{#s19, 2} where #s19<:Number)})(T<:(AbstractArray{#s19, 2} where #s19<:Number), Int64, Int64) where {T<:(AbstractArray{#s19, 2} where #s19<:Number)} in module QI at /home/marcin/.julia/dev/QI/src/channels.jl:112 overwritten at /home/marcin/.julia/dev/QI/src/channels.jl:228.\n"
     ]
    }
   ],
   "source": [
    "using AcausalNets\n",
    "using QI\n",
    "using LightGraphs\n",
    "using LinearAlgebra"
   ]
  },
  {
   "cell_type": "code",
   "execution_count": 2,
   "metadata": {},
   "outputs": [
    {
     "data": {
      "text/plain": [
       "AcausalNets.Structures.DiscreteBayesNet{AcausalNets.Systems.DiscreteSystem{AbstractArray{T,2} where T}}({3, 2} directed simple Int64 graph, AcausalNets.Systems.DiscreteSystem{AbstractArray{T,2} where T}[DiscreteSystem{AbstractArray{T,2} where T}(Variable[], Variable[Variable(:a, 3)], [0.333333 0.0 0.0; 0.0 0.333333 0.0; 0.0 0.0 0.333333]), DiscreteSystem{AbstractArray{T,2} where T}(Variable[], Variable[Variable(:b, 3)], [0.333333 0.0 0.0; 0.0 0.333333 0.0; 0.0 0.0 0.333333]), DiscreteSystem{AbstractArray{T,2} where T}(Variable[Variable(:a, 3), Variable(:b, 3)], Variable[Variable(:c, 3)], [0.0 0.0 … 0.0 0.0; 0.0 0.5 … 0.0 0.0; … ; 0.0 0.0 … 0.5 0.0; 0.0 0.0 … 0.0 0.0])])"
      ]
     },
     "execution_count": 2,
     "metadata": {},
     "output_type": "execute_result"
    }
   ],
   "source": [
    "roA = Diagonal([1/3, 1/3, 1/3])\n",
    "\n",
    "roB = Diagonal([1/3, 1/3, 1/3])\n",
    "roCwAB = Diagonal([\n",
    "        0,1/2, 1/2, #A=0, B=0\n",
    "        0,0,1, #A=0, B=1\n",
    "        #CHANGED to that ro(C | AB) != ro(C | BA) - Originally BE 0,1,0\n",
    "        0,1,0, #A=0, B=2 \n",
    "        0,0,1, #A=1, B=0\n",
    "        1/2,0,1/2, #A=1, B=1\n",
    "        1,0,0, #A=1, B=2\n",
    "        0,1,0, #A=2, B=0\n",
    "        1,0,0, #A=2, B=1\n",
    "        1/2,1/2,0 #A=2, B=2\n",
    "        ]); #\n",
    "\n",
    "var_a = Variable(:a, 3)\n",
    "\n",
    "var_b = Variable(:b, 3)\n",
    "var_c = Variable(:c, 3)\n",
    "\n",
    "sys_a = DiscreteQuantumSystem([var_a], roA)\n",
    "\n",
    "sys_b = DiscreteQuantumSystem([var_b], roB)\n",
    "\n",
    "sys_c_ab = DiscreteQuantumSystem([var_a, var_b], [var_c], roCwAB)\n",
    "classic_an = AcausalNet()\n",
    "\n",
    "push!(classic_an, sys_a)\n",
    "push!(classic_an, sys_b)\n",
    "push!(classic_an, sys_c_ab)\n",
    "# show(an)"
   ]
  },
  {
   "cell_type": "code",
   "execution_count": 3,
   "metadata": {},
   "outputs": [
    {
     "data": {
      "text/plain": [
       "AcausalNets.Structures.DiscreteBayesNet{AcausalNets.Systems.DiscreteSystem{AbstractArray{T,2} where T}}({2, 1} directed simple Int64 graph, AcausalNets.Systems.DiscreteSystem{AbstractArray{T,2} where T}[DiscreteSystem{AbstractArray{T,2} where T}(Variable[], Variable[Variable(:a, 3), Variable(:b, 3)], Complex{Float64}[0.333333+0.0im 0.0+0.0im … 0.0+0.0im 0.333333+0.0im; 0.0+0.0im 0.0+0.0im … 0.0+0.0im 0.0+0.0im; … ; 0.0+0.0im 0.0+0.0im … 0.0+0.0im 0.0+0.0im; 0.333333+0.0im 0.0+0.0im … 0.0+0.0im 0.333333+0.0im]), DiscreteSystem{AbstractArray{T,2} where T}(Variable[Variable(:a, 3), Variable(:b, 3)], Variable[Variable(:c, 3)], [0.0 0.0 … 0.0 0.0; 0.0 0.5 … 0.0 0.0; … ; 0.0 0.0 … 0.5 0.0; 0.0 0.0 … 0.0 0.0])])"
      ]
     },
     "execution_count": 3,
     "metadata": {},
     "output_type": "execute_result"
    }
   ],
   "source": [
    "roAB =1/3*(ket(0,9)+ket(4,9)+ket(8,9))* (bra(0,9)+bra(4,9)+bra(8,9)) \n",
    "\n",
    "roC = Diagonal([\n",
    "        0,1/2,1/2, #A=0, B=0\n",
    "        0,0,1, #A=0, B=1\n",
    "        0,1,0, #A=0, B=2\n",
    "        0,0,1, #A=1, B=0\n",
    "        1/2,0,1/2, #A=1, B=1\n",
    "        1,0,0, #A=1, B=2\n",
    "        0,1,0, #A=2, B=0\n",
    "        1,0,0, #A=2, B=1\n",
    "        1/2,1/2,0 #A=2, B=2\n",
    "        ]); #\n",
    "\n",
    "var_a = Variable(:a, 3)\n",
    "\n",
    "var_b = Variable(:b, 3)\n",
    "var_c = Variable(:c, 3)\n",
    "\n",
    "sys_ab = DiscreteQuantumSystem([var_a, var_b], roAB)\n",
    "sys_c_ab = DiscreteQuantumSystem([var_a, var_b], [var_c], roCwAB)\n",
    "quantum_an = AcausalNet()\n",
    "\n",
    "push!(quantum_an, sys_ab)\n",
    "push!(quantum_an, sys_c_ab)\n",
    "\n",
    "# gplot(Graph(quantum_bn.dag), nodelabel=nodes(quantum_bn))"
   ]
  },
  {
   "cell_type": "code",
   "execution_count": 4,
   "metadata": {},
   "outputs": [
    {
     "data": {
      "text/plain": [
       "AcausalNets.Structures.DiscreteBayesNet{AcausalNets.Systems.DiscreteSystem{AbstractArray{T,2} where T}}({8, 9} directed simple Int64 graph, AcausalNets.Systems.DiscreteSystem{AbstractArray{T,2} where T}[DiscreteSystem{AbstractArray{T,2} where T}(Variable[], Variable[Variable(:a, 2)], [0.5 0.0; 0.0 0.5]), DiscreteSystem{AbstractArray{T,2} where T}(Variable[Variable(:a, 2)], Variable[Variable(:b, 2)], [0.5 0.0 0.0 0.0; 0.0 0.5 0.0 0.0; 0.0 0.0 0.4 0.0; 0.0 0.0 0.0 0.6]), DiscreteSystem{AbstractArray{T,2} where T}(Variable[Variable(:a, 2)], Variable[Variable(:c, 2)], [0.7 0.0 0.0 0.0; 0.0 0.3 0.0 0.0; 0.0 0.0 0.2 0.0; 0.0 0.0 0.0 0.8]), DiscreteSystem{AbstractArray{T,2} where T}(Variable[Variable(:b, 2)], Variable[Variable(:d, 2)], [0.9 0.0 0.0 0.0; 0.0 0.1 0.0 0.0; 0.0 0.0 0.5 0.0; 0.0 0.0 0.0 0.5]), DiscreteSystem{AbstractArray{T,2} where T}(Variable[Variable(:c, 2)], Variable[Variable(:e, 2)], [0.3 0.0 0.0 0.0; 0.0 0.7 0.0 0.0; 0.0 0.0 0.6 0.0; 0.0 0.0 0.0 0.4]), DiscreteSystem{AbstractArray{T,2} where T}(Variable[Variable(:d, 2), Variable(:e, 2)], Variable[Variable(:f, 2)], [0.01 0.0 … 0.0 0.0; 0.0 0.99 … 0.0 0.0; … ; 0.0 0.0 … 0.99 0.0; 0.0 0.0 … 0.0 0.01]), DiscreteSystem{AbstractArray{T,2} where T}(Variable[Variable(:c, 2)], Variable[Variable(:g, 2)], [0.8 0.0 0.0 0.0; 0.0 0.2 0.0 0.0; 0.0 0.0 0.1 0.0; 0.0 0.0 0.0 0.9]), DiscreteSystem{AbstractArray{T,2} where T}(Variable[Variable(:e, 2), Variable(:g, 2)], Variable[Variable(:h, 2)], [0.05 0.0 … 0.0 0.0; 0.0 0.95 … 0.0 0.0; … ; 0.0 0.0 … 0.95 0.0; 0.0 0.0 … 0.0 0.05])])"
      ]
     },
     "execution_count": 4,
     "metadata": {},
     "output_type": "execute_result"
    }
   ],
   "source": [
    "roA = Diagonal([.5, .5])\n",
    "roBwA = Diagonal([.5, .5, .4, .6])\n",
    "roCwA = Diagonal([.7, .3, .2, .8])\n",
    "roDwB = Diagonal([.9, .1, .5, .5])\n",
    "roEwC = Diagonal([.3, .7, .6, .4])\n",
    "roFwDE = Diagonal([.01, .99, .01, .99, .01, .99, .99, .01])\n",
    "roGwC = Diagonal([.8, .2, .1, .9])\n",
    "roHwEG = Diagonal([.05, .95, .95, .05, .95, .05, .95, .05])\n",
    "\n",
    "var_a = Variable(:a, 2)\n",
    "var_b = Variable(:b, 2)\n",
    "var_c = Variable(:c, 2)\n",
    "var_d = Variable(:d, 2)\n",
    "var_e = Variable(:e, 2)\n",
    "var_f = Variable(:f, 2)\n",
    "var_g = Variable(:g, 2)\n",
    "var_h = Variable(:h, 2)\n",
    "\n",
    "sys_a = DiscreteQuantumSystem([var_a], roA)\n",
    "sys_b = DiscreteQuantumSystem([var_a], [var_b], roBwA)\n",
    "sys_c = DiscreteQuantumSystem([var_a], [var_c], roCwA)\n",
    "sys_d = DiscreteQuantumSystem([var_b], [var_d], roDwB)\n",
    "sys_e = DiscreteQuantumSystem([var_c], [var_e], roEwC)\n",
    "sys_f = DiscreteQuantumSystem([var_d, var_e], [var_f], roFwDE)\n",
    "sys_g = DiscreteQuantumSystem([var_c], [var_g], roGwC)\n",
    "sys_h = DiscreteQuantumSystem([var_e, var_g], [var_h], roHwEG)\n",
    "\n",
    "\n",
    "example_an = AcausalNet()\n",
    "push!(example_an, sys_a)\n",
    "push!(example_an, sys_b)\n",
    "push!(example_an, sys_c)\n",
    "push!(example_an, sys_d)\n",
    "push!(example_an, sys_e)\n",
    "push!(example_an, sys_f)\n",
    "push!(example_an, sys_g)\n",
    "push!(example_an, sys_h)\n",
    "\n",
    "# gplot(example_bn.dag, nodelabel=nodes(example_bn))\n",
    "# [v.target for v in example_bn.cpds]\n"
   ]
  },
  {
   "cell_type": "code",
   "execution_count": 5,
   "metadata": {},
   "outputs": [],
   "source": [
    "# roA = Diagonal([.5, .5])\n",
    "\n",
    "# roBwA = Diagonal([.5, .5, .5, .5])\n",
    "\n",
    "# roCwB = Diagonal([.5, .5, .5, .5])\n",
    "\n",
    "# roDwC = Diagonal([.5, .5, .5, .5])\n",
    "# |\n",
    "# sys_a = DiscreteQuantumSystem([var_a], roA)\n",
    "# sys_b = DiscreteQuantumSystem([var_a], [var_b], roBwA)\n",
    "# sys_c = DiscreteQuantumSystem([var_b], [var_c], roCwB)\n",
    "# sys_d = DiscreteQuantumSystem([var_c], [var_d], roDwC)\n",
    "\n",
    "# snake_an = AcausalNet()\n",
    "# push!(snake_an, sys_a)\n",
    "# push!(snake_an, sys_b)\n",
    "# push!(snake_an, sys_c)\n",
    "# push!(snake_an, sys_d)\n",
    "\n",
    "# # gplot(snake_an.dag, nodelabel=nodes(snake_bn))"
   ]
  },
  {
   "cell_type": "code",
   "execution_count": 6,
   "metadata": {},
   "outputs": [
    {
     "data": {
      "text/plain": [
       "parent_systems (generic function with 1 method)"
      ]
     },
     "execution_count": 6,
     "metadata": {},
     "output_type": "execute_result"
    }
   ],
   "source": [
    "function parent_systems(an::AcausalNet, ds::DiscreteQuantumSystem)\n",
    "    result = DiscreteQuantumSystem[]\n",
    "    for p in parents(ds)\n",
    "        parent_system = systems(an)[variable_to_node(an, p)]\n",
    "        if !(parent_system in result)\n",
    "            push!(result, parent_system)\n",
    "        end\n",
    "    end\n",
    "    return result\n",
    "end"
   ]
  },
  {
   "cell_type": "code",
   "execution_count": 7,
   "metadata": {},
   "outputs": [
    {
     "data": {
      "text/plain": [
       "moral_graph (generic function with 1 method)"
      ]
     },
     "execution_count": 7,
     "metadata": {},
     "output_type": "execute_result"
    }
   ],
   "source": [
    "function moral_graph(an::AcausalNet)\n",
    "    result = Graph(deepcopy(an.dag))\n",
    "    for sys in systems(an)\n",
    "        for p1 in parent_systems(an, sys)\n",
    "            for p2 in parent_systems(an, sys)\n",
    "                p1_ind = system_to_node(an, p1)\n",
    "                p2_ind = system_to_node(an, p2)\n",
    "                if(p1_ind!=p2_ind)\n",
    "                    add_edge!(result, p1_ind, p2_ind)\n",
    "                end\n",
    "            end\n",
    "        end\n",
    "    end\n",
    "    return result\n",
    "end"
   ]
  },
  {
   "cell_type": "code",
   "execution_count": 8,
   "metadata": {},
   "outputs": [
    {
     "ename": "LoadError",
     "evalue": "MethodError: no method matching variable_to_node(::AcausalNets.Structures.DiscreteBayesNet{AcausalNets.Systems.DiscreteSystem{AbstractArray{T,2} where T}}, ::Variable)",
     "output_type": "error",
     "traceback": [
      "MethodError: no method matching variable_to_node(::AcausalNets.Structures.DiscreteBayesNet{AcausalNets.Systems.DiscreteSystem{AbstractArray{T,2} where T}}, ::Variable)",
      "",
      "Stacktrace:",
      " [1] parent_systems(::AcausalNets.Structures.DiscreteBayesNet{AcausalNets.Systems.DiscreteSystem{AbstractArray{T,2} where T}}, ::AcausalNets.Systems.DiscreteSystem{AbstractArray{T,2} where T}) at ./In[6]:4",
      " [2] moral_graph(::AcausalNets.Structures.DiscreteBayesNet{AcausalNets.Systems.DiscreteSystem{AbstractArray{T,2} where T}}) at ./In[7]:4",
      " [3] top-level scope at none:0"
     ]
    }
   ],
   "source": [
    "an = example_an\n",
    "moral_an = moral_graph(an)\n",
    "print(ne(moral_an))\n",
    "# gplot(moral_bn, nodelabel=nodes(bn))\n",
    "println(moral_an.fadjlist)\n",
    "println(variables_names(an))"
   ]
  },
  {
   "cell_type": "code",
   "execution_count": 9,
   "metadata": {},
   "outputs": [
    {
     "data": {
      "text/plain": [
       "is_subset (generic function with 1 method)"
      ]
     },
     "execution_count": 9,
     "metadata": {},
     "output_type": "execute_result"
    }
   ],
   "source": [
    "is_subset(s1::Set, s2::Set) = intersect(s1, s2) == s1"
   ]
  },
  {
   "cell_type": "code",
   "execution_count": 10,
   "metadata": {},
   "outputs": [
    {
     "data": {
      "text/plain": [
       "triangulate (generic function with 1 method)"
      ]
     },
     "execution_count": 10,
     "metadata": {},
     "output_type": "execute_result"
    }
   ],
   "source": [
    "function triangulate(mg::Graph, an::AcausalNet)\n",
    "    mg_copy = [false for _ in vertices(mg)]\n",
    "    mg = deepcopy(mg)\n",
    "    nl = systems(an)\n",
    "    cliques = Vector{Set}()\n",
    "    while(!all(mg_copy))\n",
    "        least_edges_to_be_added = Inf\n",
    "        chosen_vertex = 0\n",
    "        chosen_cluster = Set()\n",
    "        for v=1:length(mg_copy)\n",
    "            if mg_copy[v]\n",
    "                continue\n",
    "            else\n",
    "                cluster = Set()\n",
    "                for e in edges(mg)\n",
    "                    if (v==src(e) || v==dst(e)) && !mg_copy[src(e)] && !mg_copy[dst(e)]\n",
    "                        push!(cluster, src(e))\n",
    "                        push!(cluster, dst(e))\n",
    "                    end\n",
    "                end\n",
    "                edges_todo = 0\n",
    "                for v1 in cluster\n",
    "                    for v2 in cluster\n",
    "                        if v1 != v2 && !in((v1, v2), edges(mg))\n",
    "                            edges_todo +=1\n",
    "                        end\n",
    "                    end\n",
    "                end\n",
    "                edges_todo /= 2\n",
    "                \n",
    "                if edges_todo < least_edges_to_be_added || \n",
    "                    ((edges_todo == least_edges_to_be_added) && \n",
    "                        (prod([ncategories(systems(an)[n]) for n in cluster]) <= prod([ncategories(systems(an)[n]) for n in chosen_cluster])))                      \n",
    "                    least_edges_to_be_added = edges_todo\n",
    "                    chosen_vertex = v\n",
    "                    chosen_cluster = cluster\n",
    "                end\n",
    "            end       \n",
    "        end\n",
    "        chosen_nodes = Set([nl[n] for n in chosen_cluster])\n",
    "        if !any([is_subset(chosen_nodes, clique) for clique in cliques])\n",
    "            push!(cliques, chosen_nodes)\n",
    "        end\n",
    "        mg_copy[chosen_vertex] = true\n",
    "        for v1 in chosen_cluster\n",
    "            for v2 in chosen_cluster\n",
    "                if v1 != v2 && !in((v1, v2), edges(mg))\n",
    "                    add_edge!(mg, v1, v2)\n",
    "                end\n",
    "            end\n",
    "        end     \n",
    "    end\n",
    "    cliques = [sort([c for c in clique], by=c -> system_to_node(an, c)) for clique in cliques]\n",
    "    return mg, cliques\n",
    "end"
   ]
  },
  {
   "cell_type": "code",
   "execution_count": 11,
   "metadata": {},
   "outputs": [
    {
     "ename": "LoadError",
     "evalue": "UndefVarError: moral_an not defined",
     "output_type": "error",
     "traceback": [
      "UndefVarError: moral_an not defined",
      "",
      "Stacktrace:",
      " [1] top-level scope at none:0"
     ]
    }
   ],
   "source": [
    "println(ne(moral_an))\n",
    "\n",
    "tri_moral_an, cliques = triangulate(moral_an,an)\n",
    "println(ne(tri_moral_an))\n",
    "\n",
    "# before, cliques were sets\n",
    "# they are now transformed to vectors and their ordering is the same \n",
    "# as in their bayes_net DAG\n",
    "# println(cliques)\n",
    "# gplot(tri_moral_an ,nodelabel=nodes(an))\n",
    "\n",
    "println(tri_moral_an.fadjlist)\n",
    "println(variables_names(an))"
   ]
  },
  {
   "cell_type": "code",
   "execution_count": 12,
   "metadata": {},
   "outputs": [],
   "source": [
    "struct JoinTree\n",
    "    graph::Graph\n",
    "    clusters::Vector{Vector{DiscreteQuantumSystem}}\n",
    "    vertex_to_num::Dict{Int64, AbstractMatrix}\n",
    "    edge_to_num::Dict{Set{Int}, AbstractMatrix}\n",
    "    \n",
    "end"
   ]
  },
  {
   "cell_type": "code",
   "execution_count": 13,
   "metadata": {},
   "outputs": [
    {
     "data": {
      "text/plain": [
       "sepset_cost (generic function with 1 method)"
      ]
     },
     "execution_count": 13,
     "metadata": {},
     "output_type": "execute_result"
    }
   ],
   "source": [
    "function sepset_cost(sepset::Set{DiscreteQuantumSystem}, an::AcausalNet)\n",
    "    weights = [ncategories(s) for s in sepset]\n",
    "    \n",
    "    return 0\n",
    "end"
   ]
  },
  {
   "cell_type": "code",
   "execution_count": 14,
   "metadata": {},
   "outputs": [
    {
     "data": {
      "text/plain": [
       "sepset_comparator (generic function with 1 method)"
      ]
     },
     "execution_count": 14,
     "metadata": {},
     "output_type": "execute_result"
    }
   ],
   "source": [
    "function sepset_comparator(c1, c2)\n",
    "    sepset = intersect(c1, c2)\n",
    "    -length(sepset)\n",
    "end"
   ]
  },
  {
   "cell_type": "code",
   "execution_count": 15,
   "metadata": {},
   "outputs": [
    {
     "data": {
      "text/plain": [
       "cluster_size (generic function with 1 method)"
      ]
     },
     "execution_count": 15,
     "metadata": {},
     "output_type": "execute_result"
    }
   ],
   "source": [
    "cluster_size(cluster::Vector{DiscreteQuantumSystem}, an::AcausalNet) = prod([ncategories(s) for s in cluster])"
   ]
  },
  {
   "cell_type": "code",
   "execution_count": 16,
   "metadata": {},
   "outputs": [
    {
     "data": {
      "text/plain": [
       "make_join_tree (generic function with 1 method)"
      ]
     },
     "execution_count": 16,
     "metadata": {},
     "output_type": "execute_result"
    }
   ],
   "source": [
    "function make_join_tree(clusters::Vector{Vector{DiscreteQuantumSystem}}, an::AcausalNet)\n",
    "    candidate_sepsets = []\n",
    "    trees = Dict([c => c for c in clusters])\n",
    "    chosen_sepsets = Set()\n",
    "    \n",
    "    result = JoinTree(\n",
    "        Graph(length(clusters)), \n",
    "        clusters, \n",
    "        Dict([v => eye(cluster_size(clusters[v], an)) for v=1:length(clusters)]),\n",
    "        Dict()\n",
    "    )\n",
    "    for c1 = 1:length(clusters)\n",
    "        for c2= 1:length(clusters)\n",
    "            if c1 != c2\n",
    "                push!(candidate_sepsets,(c1, c2))\n",
    "            end\n",
    "        end\n",
    "    end\n",
    "    candidate_sepsets = sort(candidate_sepsets, by=c -> sepset_comparator(clusters[c[1]], clusters[c[2]]))\n",
    "    i = 1\n",
    "    n = length(clusters)\n",
    "\n",
    "    while length(chosen_sepsets) < n-1\n",
    "        i1, i2 = candidate_sepsets[i]\n",
    "        c1, c2 = clusters[i1], clusters[i2]\n",
    "        sepset = intersect(c1, c2)\n",
    "        if (trees[c1] != trees[c2]) && !any([sepset==s for s in chosen_sepsets])\n",
    "            push!(chosen_sepsets, sepset)\n",
    "            trees[c1] = trees[c2] = union(c1, c2)\n",
    "#             println(c1, \" \", c2, \" \", sepset)\n",
    "            add_edge!(result.graph, i1, i2)\n",
    "            push!(result.edge_to_num, Set([i1, i2]) => eye(cluster_size(sepset, an)))\n",
    "        end\n",
    "        i += 1\n",
    "    end\n",
    "    result\n",
    "end"
   ]
  },
  {
   "cell_type": "code",
   "execution_count": 17,
   "metadata": {},
   "outputs": [
    {
     "ename": "LoadError",
     "evalue": "UndefVarError: cliques not defined",
     "output_type": "error",
     "traceback": [
      "UndefVarError: cliques not defined",
      "",
      "Stacktrace:",
      " [1] top-level scope at none:0"
     ]
    }
   ],
   "source": [
    "jt = make_join_tree(cliques, an)\n",
    "jt.clusters"
   ]
  },
  {
   "cell_type": "code",
   "execution_count": 18,
   "metadata": {},
   "outputs": [],
   "source": [
    "# gplot(jt.graph, nodelabel=[join([string(v) for v in c]) for c in jt.clusters])"
   ]
  },
  {
   "cell_type": "code",
   "execution_count": 19,
   "metadata": {},
   "outputs": [
    {
     "data": {
      "text/plain": [
       "family (generic function with 1 method)"
      ]
     },
     "execution_count": 19,
     "metadata": {},
     "output_type": "execute_result"
    }
   ],
   "source": [
    "function family(an::AcausalNet, dqs::DiscreteQuantumSystem)\n",
    "    union(Set([dqs]), Set(parent_systems(an, dqs)))\n",
    "end"
   ]
  },
  {
   "cell_type": "code",
   "execution_count": 20,
   "metadata": {},
   "outputs": [
    {
     "ename": "LoadError",
     "evalue": "UndefVarError: jt not defined",
     "output_type": "error",
     "traceback": [
      "UndefVarError: jt not defined",
      "",
      "Stacktrace:",
      " [1] top-level scope at none:0"
     ]
    }
   ],
   "source": [
    "print(jt.clusters[1])\n",
    "jt.vertex_to_num[1]"
   ]
  },
  {
   "cell_type": "code",
   "execution_count": 21,
   "metadata": {},
   "outputs": [
    {
     "data": {
      "text/plain": [
       "event (generic function with 1 method)"
      ]
     },
     "execution_count": 21,
     "metadata": {},
     "output_type": "execute_result"
    }
   ],
   "source": [
    "event(system::AbstractMatrix, e::AbstractMatrix) = (e * system * e) / tr(e * system)"
   ]
  },
  {
   "cell_type": "code",
   "execution_count": 22,
   "metadata": {},
   "outputs": [],
   "source": [
    "AcausalNets.Systems.variables(cluster::Vector{DiscreteQuantumSystem}) = return [dqs.variables for dqs in cluster] \n"
   ]
  },
  {
   "cell_type": "code",
   "execution_count": 23,
   "metadata": {},
   "outputs": [
    {
     "ename": "LoadError",
     "evalue": "UndefVarError: jt not defined",
     "output_type": "error",
     "traceback": [
      "UndefVarError: jt not defined",
      "",
      "Stacktrace:",
      " [1] top-level scope at none:0"
     ]
    }
   ],
   "source": [
    "[variables(c) for c in jt.clusters]"
   ]
  },
  {
   "cell_type": "code",
   "execution_count": 24,
   "metadata": {},
   "outputs": [
    {
     "data": {
      "text/plain": [
       "shallowcopy (generic function with 1 method)"
      ]
     },
     "execution_count": 24,
     "metadata": {},
     "output_type": "execute_result"
    }
   ],
   "source": [
    "shallowcopy(jt::JoinTree) = JoinTree(\n",
    "        jt.graph, \n",
    "        jt.clusters, \n",
    "        deepcopy(jt.vertex_to_num), \n",
    "        deepcopy(jt.edge_to_num)\n",
    "    )"
   ]
  },
  {
   "cell_type": "code",
   "execution_count": 25,
   "metadata": {},
   "outputs": [
    {
     "data": {
      "text/plain": [
       "initialize (generic function with 2 methods)"
      ]
     },
     "execution_count": 25,
     "metadata": {},
     "output_type": "execute_result"
    }
   ],
   "source": [
    "function initialize(jt::JoinTree, an::AcausalNet, assignments::Dict=Dict())\n",
    "    jt = shallowcopy(jt)\n",
    "    for v1 in systems(an)\n",
    "#         println(v1.variables)\n",
    "        parent_cluster_ind = [c for c=1:length(jt.clusters) if is_subset(family(an, v1), Set(jt.clusters[c]))][1]\n",
    "        mul_elem = eye(1)\n",
    "        multiplied_indices = [] \n",
    "        multiplied_dimensions = []\n",
    "#         println(variables(v1), \" chooses \", variables(jt.clusters[parent_cluster_ind]))\n",
    "        \n",
    "        for v2 in [v for v in systems(an) if v in jt.clusters[parent_cluster_ind]]\n",
    "            factor = eye(1)\n",
    "            if v1 == v2\n",
    "                assignment_factor = eye(1)\n",
    "                for p in parent_systems(an, v2)\n",
    "                    p_index = system_to_node(an, p)\n",
    "                    push!(multiplied_indices, p_index)\n",
    "                    push!(multiplied_dimensions, ncategories(p))\n",
    "                    assignment_factor = kron(assignment_factor, eye(ncategories(p)))\n",
    "                end\n",
    "                for v in variables(v2)\n",
    "                    assignment = get(assignments, v, eye(ncategories(v)))\n",
    "                    assignment_factor = kron(assignment_factor, assignment)\n",
    "                end\n",
    "                factor = event(v2.distribution, assignment_factor) * tr(v2.distribution)\n",
    "                push!(multiplied_indices, system_to_node(an, v2))\n",
    "                push!(multiplied_dimensions, ncategories(v2))\n",
    "            elseif !in(v2, parent_systems(an, v1))\n",
    "                factor = eye(ncategories(v2))\n",
    "                push!(multiplied_indices, system_to_node(an, v2))\n",
    "                push!(multiplied_dimensions, ncategories(v2))\n",
    "            end\n",
    "            mul_elem = kron(mul_elem, factor)\n",
    "        end\n",
    "#         println(variables(v1), \" has chosen\")\n",
    "        sorted_multiplied_indices = sort(multiplied_indices)\n",
    "        right_order = [findfirst([m == mul for mul in multiplied_indices]) for m in sorted_multiplied_indices]\n",
    "        \n",
    "#         println([as.cpds[i].target for i in multiplied_indices])\n",
    "#         println(multiplied_indices)\n",
    "#         println([as.cpds[i].target for i in sorted_multiplied_indices])\n",
    "#         println(sorted_multiplied_indices)\n",
    "#         println(right_order)\n",
    "#         println(\"-----\")\n",
    "        multiplied_dimensions = [multiplied_dimensions[r] for r in right_order]\n",
    "#         mul_elem = permute_systems(mul_elem, multiplied_dimensions, right_order)\n",
    "\n",
    "        previous_init = jt.vertex_to_num[parent_cluster_ind]\n",
    "        jt.vertex_to_num[parent_cluster_ind] = star(mul_elem, previous_init)\n",
    "    end\n",
    "#     println()\n",
    "    jt\n",
    "end"
   ]
  },
  {
   "cell_type": "code",
   "execution_count": 26,
   "metadata": {},
   "outputs": [
    {
     "ename": "LoadError",
     "evalue": "UndefVarError: jt not defined",
     "output_type": "error",
     "traceback": [
      "UndefVarError: jt not defined",
      "",
      "Stacktrace:",
      " [1] top-level scope at none:0"
     ]
    }
   ],
   "source": [
    "init_jt = initialize(jt, an);\n",
    "# print(init_jt.cliques)\n",
    "# real(init_jt.vertex_to_num[5])"
   ]
  },
  {
   "cell_type": "code",
   "execution_count": 27,
   "metadata": {},
   "outputs": [
    {
     "data": {
      "text/plain": [
       "4×4 Diagonal{Float64,Array{Float64,1}}:\n",
       " 0.7   ⋅    ⋅    ⋅ \n",
       "  ⋅   0.3   ⋅    ⋅ \n",
       "  ⋅    ⋅   0.2   ⋅ \n",
       "  ⋅    ⋅    ⋅   0.8"
      ]
     },
     "execution_count": 27,
     "metadata": {},
     "output_type": "execute_result"
    }
   ],
   "source": [
    "roCwA"
   ]
  },
  {
   "cell_type": "code",
   "execution_count": 28,
   "metadata": {},
   "outputs": [
    {
     "name": "stderr",
     "output_type": "stream",
     "text": [
      "┌ Warning: `eye(m::Integer)` has been deprecated in favor of `I` and `Matrix` constructors. For a direct replacement, consider `Matrix(1.0I, m, m)` or `Matrix{Float64}(I, m, m)`. If `Float64` element type is not necessary, consider the shorter `Matrix(I, m, m)` (with default `eltype(I)` `Bool`).\n",
      "│   caller = top-level scope at none:0\n",
      "└ @ Core none:0\n",
      "┌ Warning: `eye(m::Integer)` has been deprecated in favor of `I` and `Matrix` constructors. For a direct replacement, consider `Matrix(1.0I, m, m)` or `Matrix{Float64}(I, m, m)`. If `Float64` element type is not necessary, consider the shorter `Matrix(I, m, m)` (with default `eltype(I)` `Bool`).\n",
      "│   caller = top-level scope at none:0\n",
      "└ @ Core none:0\n",
      "┌ Warning: `eye(m::Integer)` has been deprecated in favor of `I` and `Matrix` constructors. For a direct replacement, consider `Matrix(1.0I, m, m)` or `Matrix{Float64}(I, m, m)`. If `Float64` element type is not necessary, consider the shorter `Matrix(I, m, m)` (with default `eltype(I)` `Bool`).\n",
      "│   caller = top-level scope at none:0\n",
      "└ @ Core none:0\n"
     ]
    },
    {
     "data": {
      "text/plain": [
       "2×2 Array{Float64,2}:\n",
       " 0.9  0.0\n",
       " 0.0  1.1"
      ]
     },
     "execution_count": 28,
     "metadata": {},
     "output_type": "execute_result"
    }
   ],
   "source": [
    "# from this it would seem that currently node [a, d, c] \n",
    "# holds conditional probability ADCwD\n",
    "\n",
    "a_factor = kron(kron(roA, eye(ncategories(sys_d))), eye(ncategories(sys_c)))\n",
    "c_factor = kron(eye(ncategories(sys_d)), roCwA)\n",
    "c_factor = permute_systems(c_factor, [2,2,2], [2,1,3])\n",
    "ADCwD = star(c_factor, a_factor)\n",
    "tr(ADCwD)\n",
    "ptrace(ADCwD, [2,2,2], [1,2])"
   ]
  },
  {
   "cell_type": "code",
   "execution_count": 29,
   "metadata": {},
   "outputs": [
    {
     "data": {
      "text/plain": [
       "4×4 Diagonal{Float64,Array{Float64,1}}:\n",
       " 0.5   ⋅    ⋅    ⋅ \n",
       "  ⋅   0.5   ⋅    ⋅ \n",
       "  ⋅    ⋅   0.4   ⋅ \n",
       "  ⋅    ⋅    ⋅   0.6"
      ]
     },
     "execution_count": 29,
     "metadata": {},
     "output_type": "execute_result"
    }
   ],
   "source": [
    "roBwA"
   ]
  },
  {
   "cell_type": "code",
   "execution_count": 30,
   "metadata": {},
   "outputs": [
    {
     "name": "stderr",
     "output_type": "stream",
     "text": [
      "┌ Warning: `eye(m::Integer)` has been deprecated in favor of `I` and `Matrix` constructors. For a direct replacement, consider `Matrix(1.0I, m, m)` or `Matrix{Float64}(I, m, m)`. If `Float64` element type is not necessary, consider the shorter `Matrix(I, m, m)` (with default `eltype(I)` `Bool`).\n",
      "│   caller = top-level scope at none:0\n",
      "└ @ Core none:0\n",
      "┌ Warning: `eye(m::Integer)` has been deprecated in favor of `I` and `Matrix` constructors. For a direct replacement, consider `Matrix(1.0I, m, m)` or `Matrix{Float64}(I, m, m)`. If `Float64` element type is not necessary, consider the shorter `Matrix(I, m, m)` (with default `eltype(I)` `Bool`).\n",
      "│   caller = top-level scope at none:0\n",
      "└ @ Core none:0\n"
     ]
    },
    {
     "data": {
      "text/plain": [
       "4×4 Array{Float64,2}:\n",
       " 0.5  0.0  0.0  0.0\n",
       " 0.0  0.5  0.0  0.0\n",
       " 0.0  0.0  0.4  0.0\n",
       " 0.0  0.0  0.0  0.6"
      ]
     },
     "execution_count": 30,
     "metadata": {},
     "output_type": "execute_result"
    }
   ],
   "source": [
    "# [a, b, d] holds ABDwA\n",
    "b_factor = kron(roBwA, eye(ncategories(sys_d)))\n",
    "d_factor = kron(eye(ncategories(sys_a)), roDwB)\n",
    "\n",
    "ABDwA = star(b_factor, d_factor)\n",
    "# trace(ABDwA)\n",
    "ptrace(ABDwA, [2,2,2], [3])"
   ]
  },
  {
   "cell_type": "code",
   "execution_count": 31,
   "metadata": {},
   "outputs": [
    {
     "ename": "LoadError",
     "evalue": "UndefVarError: init_jt not defined",
     "output_type": "error",
     "traceback": [
      "UndefVarError: init_jt not defined",
      "",
      "Stacktrace:",
      " [1] top-level scope at none:0"
     ]
    }
   ],
   "source": [
    "init_jt.clusters"
   ]
  },
  {
   "cell_type": "markdown",
   "metadata": {},
   "source": [
    "This is a raw message pass"
   ]
  },
  {
   "cell_type": "code",
   "execution_count": 32,
   "metadata": {},
   "outputs": [
    {
     "ename": "LoadError",
     "evalue": "UndefVarError: init_jt not defined",
     "output_type": "error",
     "traceback": [
      "UndefVarError: init_jt not defined",
      "",
      "Stacktrace:",
      " [1] top-level scope at none:0"
     ]
    }
   ],
   "source": [
    "ABDwA = init_jt.vertex_to_num[6] #ABD\n",
    "# ptrace(BDwA, [2,2,2], [2,3])"
   ]
  },
  {
   "cell_type": "code",
   "execution_count": 33,
   "metadata": {},
   "outputs": [
    {
     "ename": "LoadError",
     "evalue": "UndefVarError: init_jt not defined",
     "output_type": "error",
     "traceback": [
      "UndefVarError: init_jt not defined",
      "",
      "Stacktrace:",
      " [1] top-level scope at none:0"
     ]
    }
   ],
   "source": [
    "ADCwD = init_jt.vertex_to_num[5] #ADC\n",
    "# ptrace(ACwD, [2,2,2], [2,3])\n",
    "# trace(ADCwD)\n"
   ]
  },
  {
   "cell_type": "code",
   "execution_count": 34,
   "metadata": {},
   "outputs": [
    {
     "data": {
      "text/plain": [
       "4×4 Array{Float64,2}:\n",
       " 0.5  0.0  0.0  0.0\n",
       " 0.0  0.5  0.0  0.0\n",
       " 0.0  0.0  0.5  0.0\n",
       " 0.0  0.0  0.0  0.5"
      ]
     },
     "execution_count": 34,
     "metadata": {},
     "output_type": "execute_result"
    }
   ],
   "source": [
    "# message from ADC to ABD\n",
    "ADwD = ptrace(ADCwD, [2,2,2], [3])"
   ]
  },
  {
   "cell_type": "code",
   "execution_count": 35,
   "metadata": {},
   "outputs": [
    {
     "name": "stderr",
     "output_type": "stream",
     "text": [
      "┌ Warning: `eye(m::Integer)` has been deprecated in favor of `I` and `Matrix` constructors. For a direct replacement, consider `Matrix(1.0I, m, m)` or `Matrix{Float64}(I, m, m)`. If `Float64` element type is not necessary, consider the shorter `Matrix(I, m, m)` (with default `eltype(I)` `Bool`).\n",
      "│   caller = top-level scope at none:0\n",
      "└ @ Core none:0\n"
     ]
    },
    {
     "data": {
      "text/plain": [
       "8×8 Array{Float64,2}:\n",
       " 0.5  0.0  0.0  0.0  0.0  0.0  0.0  0.0\n",
       " 0.0  0.5  0.0  0.0  0.0  0.0  0.0  0.0\n",
       " 0.0  0.0  0.5  0.0  0.0  0.0  0.0  0.0\n",
       " 0.0  0.0  0.0  0.5  0.0  0.0  0.0  0.0\n",
       " 0.0  0.0  0.0  0.0  0.5  0.0  0.0  0.0\n",
       " 0.0  0.0  0.0  0.0  0.0  0.5  0.0  0.0\n",
       " 0.0  0.0  0.0  0.0  0.0  0.0  0.5  0.0\n",
       " 0.0  0.0  0.0  0.0  0.0  0.0  0.0  0.5"
      ]
     },
     "execution_count": 35,
     "metadata": {},
     "output_type": "execute_result"
    }
   ],
   "source": [
    "# fitting the message into ABD\n",
    "ADBwBD = kron(ADwD, eye(ncategories(sys_b)))\n",
    "ABDwBD = permute_systems(ADBwBD, [2,2,2], [1, 3, 2])"
   ]
  },
  {
   "cell_type": "code",
   "execution_count": 36,
   "metadata": {},
   "outputs": [
    {
     "data": {
      "text/plain": [
       "1.0000000000000002"
      ]
     },
     "execution_count": 36,
     "metadata": {},
     "output_type": "execute_result"
    }
   ],
   "source": [
    "ABD = star(ABDwA, ABDwBD)\n",
    "# ptrace(ABD, [2,2,2], [2,3])\n",
    "tr(ABD)\n",
    "# ptrace(ABD, [2,2,2], [])"
   ]
  },
  {
   "cell_type": "code",
   "execution_count": 37,
   "metadata": {},
   "outputs": [
    {
     "data": {
      "text/plain": [
       "4×4 Array{Float64,2}:\n",
       " 0.7  0.0  0.0   0.0 \n",
       " 0.0  0.3  0.0   0.0 \n",
       " 0.0  0.0  0.66  0.0 \n",
       " 0.0  0.0  0.0   0.34"
      ]
     },
     "execution_count": 37,
     "metadata": {},
     "output_type": "execute_result"
    }
   ],
   "source": [
    "# message from ABD to ADC\n",
    "AD = ptrace(ABD, [2,2,2], [2])\n",
    "msg = unstar(AD,ADwD)"
   ]
  },
  {
   "cell_type": "code",
   "execution_count": 38,
   "metadata": {},
   "outputs": [
    {
     "name": "stderr",
     "output_type": "stream",
     "text": [
      "┌ Warning: `eye(m::Integer)` has been deprecated in favor of `I` and `Matrix` constructors. For a direct replacement, consider `Matrix(1.0I, m, m)` or `Matrix{Float64}(I, m, m)`. If `Float64` element type is not necessary, consider the shorter `Matrix(I, m, m)` (with default `eltype(I)` `Bool`).\n",
      "│   caller = top-level scope at none:0\n",
      "└ @ Core none:0\n"
     ]
    },
    {
     "data": {
      "text/plain": [
       "4.000000000000001"
      ]
     },
     "execution_count": 38,
     "metadata": {},
     "output_type": "execute_result"
    }
   ],
   "source": [
    "# fitting the message into ADC\n",
    "ADCwC = kron(msg, eye(ncategories(sys_c)))\n",
    "tr(ADCwC)"
   ]
  },
  {
   "cell_type": "code",
   "execution_count": 39,
   "metadata": {},
   "outputs": [
    {
     "data": {
      "text/plain": [
       "1.0000000000000004"
      ]
     },
     "execution_count": 39,
     "metadata": {},
     "output_type": "execute_result"
    }
   ],
   "source": [
    "ADC = star(ADCwD, ADCwC)\n",
    "tr(ADC)\n"
   ]
  },
  {
   "cell_type": "code",
   "execution_count": 40,
   "metadata": {},
   "outputs": [
    {
     "data": {
      "text/plain": [
       "2×2 Array{Float64,2}:\n",
       " 0.68  0.0 \n",
       " 0.0   0.32"
      ]
     },
     "execution_count": 40,
     "metadata": {},
     "output_type": "execute_result"
    }
   ],
   "source": [
    "ptrace(ADC, [2,2,2], [1,3])"
   ]
  },
  {
   "cell_type": "code",
   "execution_count": 41,
   "metadata": {},
   "outputs": [
    {
     "data": {
      "text/plain": [
       "single_message_pass (generic function with 1 method)"
      ]
     },
     "execution_count": 41,
     "metadata": {},
     "output_type": "execute_result"
    }
   ],
   "source": [
    "function single_message_pass(from_ind::Int, to_ind::Int, jt::JoinTree, an::AcausalNet)\n",
    "    jt = shallowcopy(jt)\n",
    "    if (from_ind, to_ind) in edges(jt.graph)\n",
    "        println(\"message from \", variables(jt.clusters[from_ind]), \" to \", variables(jt.clusters[to_ind]))\n",
    "        cluster_from = jt.clusters[from_ind]\n",
    "        cluster_to = jt.clusters[to_ind]\n",
    "        sepset = intersect(cluster_from, cluster_to)\n",
    "#         println(cluster_from, \" \", sepset, \" \", cluster_to)\n",
    "        to_trace_out_sym = setdiff(cluster_from, sepset)\n",
    "        to_trace_out_ind = [findfirst([s==sym for sym in cluster_from]) for s in to_trace_out_sym]\n",
    "#         println(\"trace_out \", to_trace_out_ind)\n",
    "        from_variables_sizes = [ncategories(v) for v in cluster_from]\n",
    "#         println(from_variables_sizes)\n",
    "        cluster_from_num = jt.vertex_to_num[from_ind]\n",
    "        old_sepset_num = jt.edge_to_num[Set([from_ind, to_ind])]\n",
    "        new_sepset_num = ptrace(cluster_from_num, from_variables_sizes, to_trace_out_ind)\n",
    "#         println(new_sepset_num)\n",
    "#         println(old_sepset_num)\n",
    "        \n",
    "#         println(jt.edge_to_num[Set([from_ind, to_ind])])\n",
    "        jt.edge_to_num[Set([from_ind, to_ind])] = new_sepset_num \n",
    "#         println(jt.edge_to_num[Set([from_ind, to_ind])])\n",
    "        \n",
    "        cluster_to_num = jt.vertex_to_num[to_ind]\n",
    "        \n",
    "#         message = event(old_sepset_num, new_sepset_num) \n",
    "        message = unstar(new_sepset_num, old_sepset_num)\n",
    "        \n",
    "        message_sym = Vector(sepset)\n",
    "#         println(message_sym)\n",
    "        for v in cluster_to\n",
    "            if !in(v, message_sym)\n",
    "                push!(message_sym, v)\n",
    "                message = kron(message, eye(ncategories(v)))\n",
    "            end\n",
    "        end\n",
    "#         println(message_sym)\n",
    "        message_sorted_inds = [findfirst([s==sym for sym in message_sym]) for s in systems(an) if s in message_sym]\n",
    "#         println(message_sorted_inds) \n",
    "        message_dims = [ncategories(s) for s in message_sym]\n",
    "        message_sorted = permute_systems(message, message_dims, message_sorted_inds )\n",
    "        jt.vertex_to_num[to_ind] = star(cluster_to_num, message_sorted) #* trace(cluster_to_num)\n",
    "#         jt.vertex_to_num[to_ind] = star(cluster_to_num, message_sorted) \n",
    "    end\n",
    "    return jt\n",
    "end"
   ]
  },
  {
   "cell_type": "code",
   "execution_count": 42,
   "metadata": {},
   "outputs": [
    {
     "ename": "LoadError",
     "evalue": "UndefVarError: jt not defined",
     "output_type": "error",
     "traceback": [
      "UndefVarError: jt not defined",
      "",
      "Stacktrace:",
      " [1] top-level scope at none:0"
     ]
    }
   ],
   "source": [
    "[variables(c) for c in jt.clusters]"
   ]
  },
  {
   "cell_type": "code",
   "execution_count": 43,
   "metadata": {},
   "outputs": [
    {
     "ename": "LoadError",
     "evalue": "UndefVarError: init_jt not defined",
     "output_type": "error",
     "traceback": [
      "UndefVarError: init_jt not defined",
      "",
      "Stacktrace:",
      " [1] top-level scope at none:0"
     ]
    }
   ],
   "source": [
    "init_jt.edge_to_num\n",
    "init_jt.vertex_to_num[5]\n",
    "#bcd\n",
    "ptrace(init_jt.vertex_to_num[5], [2,2,2], [2,3])"
   ]
  },
  {
   "cell_type": "code",
   "execution_count": 44,
   "metadata": {},
   "outputs": [
    {
     "ename": "LoadError",
     "evalue": "UndefVarError: init_jt not defined",
     "output_type": "error",
     "traceback": [
      "UndefVarError: init_jt not defined",
      "",
      "Stacktrace:",
      " [1] top-level scope at none:0"
     ]
    }
   ],
   "source": [
    "init_jt.vertex_to_num[6]\n",
    "#abc\n",
    "ptrace(init_jt.vertex_to_num[6], [2,2,2], [2,3])"
   ]
  },
  {
   "cell_type": "code",
   "execution_count": 45,
   "metadata": {},
   "outputs": [
    {
     "ename": "LoadError",
     "evalue": "UndefVarError: init_jt not defined",
     "output_type": "error",
     "traceback": [
      "UndefVarError: init_jt not defined",
      "",
      "Stacktrace:",
      " [1] top-level scope at none:0"
     ]
    }
   ],
   "source": [
    "# bcd -> abc\n",
    "passed = single_message_pass(5, 6, init_jt, an);"
   ]
  },
  {
   "cell_type": "code",
   "execution_count": 46,
   "metadata": {},
   "outputs": [
    {
     "ename": "LoadError",
     "evalue": "UndefVarError: passed not defined",
     "output_type": "error",
     "traceback": [
      "UndefVarError: passed not defined",
      "",
      "Stacktrace:",
      " [1] top-level scope at none:0"
     ]
    }
   ],
   "source": [
    "passed.vertex_to_num[5]"
   ]
  },
  {
   "cell_type": "code",
   "execution_count": 47,
   "metadata": {},
   "outputs": [
    {
     "ename": "LoadError",
     "evalue": "UndefVarError: passed not defined",
     "output_type": "error",
     "traceback": [
      "UndefVarError: passed not defined",
      "",
      "Stacktrace:",
      " [1] top-level scope at none:0"
     ]
    }
   ],
   "source": [
    "passed.vertex_to_num[6]"
   ]
  },
  {
   "cell_type": "code",
   "execution_count": 48,
   "metadata": {},
   "outputs": [
    {
     "ename": "LoadError",
     "evalue": "UndefVarError: passed not defined",
     "output_type": "error",
     "traceback": [
      "UndefVarError: passed not defined",
      "",
      "Stacktrace:",
      " [1] top-level scope at none:0"
     ]
    }
   ],
   "source": [
    "ptrace(passed.vertex_to_num[5], [2,2,2], [2, 3])"
   ]
  },
  {
   "cell_type": "code",
   "execution_count": 49,
   "metadata": {},
   "outputs": [
    {
     "ename": "LoadError",
     "evalue": "UndefVarError: passed not defined",
     "output_type": "error",
     "traceback": [
      "UndefVarError: passed not defined",
      "",
      "Stacktrace:",
      " [1] top-level scope at none:0"
     ]
    }
   ],
   "source": [
    "# abc -> bcd \n",
    "passed_2 = single_message_pass(6, 5, passed, an);\n",
    "passed_2.vertex_to_num[5]\n",
    "ptrace(passed_2.vertex_to_num[5], [2,2,2], [1, 3])"
   ]
  },
  {
   "cell_type": "code",
   "execution_count": 50,
   "metadata": {},
   "outputs": [
    {
     "data": {
      "text/plain": [
       "collect_evidence (generic function with 1 method)"
      ]
     },
     "execution_count": 50,
     "metadata": {},
     "output_type": "execute_result"
    }
   ],
   "source": [
    "function collect_evidence(cluster_ind::Int, cluster_marks::Vector{Bool}, jt::JoinTree, an::AcausalNet)\n",
    "    cluster_marks[cluster_ind] = false\n",
    "    for neighbor in neighbors(jt.graph, cluster_ind)\n",
    "        if cluster_marks[neighbor]\n",
    "#             println(jt.clusters[cluster_ind], \" \", jt.clusters[neighbor])\n",
    "            jt, cluster_marks = collect_evidence(neighbor, cluster_marks, jt, an)\n",
    "            jt = single_message_pass(neighbor, cluster_ind, jt, an)\n",
    "            # pass a message from neighbor to cluster_ind\n",
    "        end\n",
    "        \n",
    "    end\n",
    "    jt = shallowcopy(jt)\n",
    "    jt, cluster_marks\n",
    "    \n",
    "end"
   ]
  },
  {
   "cell_type": "code",
   "execution_count": 51,
   "metadata": {},
   "outputs": [
    {
     "data": {
      "text/plain": [
       "distribute_evidence (generic function with 1 method)"
      ]
     },
     "execution_count": 51,
     "metadata": {},
     "output_type": "execute_result"
    }
   ],
   "source": [
    "function distribute_evidence(cluster_ind::Int, cluster_marks::Vector{Bool}, jt::JoinTree, an::AcausalNet)\n",
    "    cluster_marks[cluster_ind] = false\n",
    "    for neighbor in neighbors(jt.graph, cluster_ind)\n",
    "        if cluster_marks[neighbor]\n",
    "            jt = single_message_pass(cluster_ind, neighbor, jt, an)\n",
    "            # pass a message from cluster_ind to neighbor\n",
    "        end\n",
    "    end\n",
    "    for neighbor in neighbors(jt.graph, cluster_ind)\n",
    "        if cluster_marks[neighbor]\n",
    "            jt, cluster_mars = distribute_evidence(neighbor, cluster_marks, jt, an)\n",
    "        end\n",
    "    end\n",
    "    jt = shallowcopy(jt)\n",
    "    jt, cluster_marks\n",
    "end"
   ]
  },
  {
   "cell_type": "code",
   "execution_count": 52,
   "metadata": {},
   "outputs": [
    {
     "data": {
      "text/plain": [
       "global_propagation (generic function with 1 method)"
      ]
     },
     "execution_count": 52,
     "metadata": {},
     "output_type": "execute_result"
    }
   ],
   "source": [
    "function global_propagation(jt::JoinTree, an::AcausalNet)\n",
    "    jt = shallowcopy(jt)\n",
    "    cluster_marks = [true for c in jt.clusters]\n",
    "    arbitrary_cluster_ind = 1\n",
    "#     println(\"Collect evidence\")\n",
    "    jt, cluster_marks = collect_evidence(arbitrary_cluster_ind, cluster_marks, jt, an)\n",
    "    cluster_marks = [true for c in jt.clusters]\n",
    "#     println(\"Distribute evidence\")\n",
    "    jt, cluster_marks = distribute_evidence(arbitrary_cluster_ind, cluster_marks, jt, an)\n",
    "    return jt\n",
    "end"
   ]
  },
  {
   "cell_type": "code",
   "execution_count": 53,
   "metadata": {},
   "outputs": [
    {
     "ename": "LoadError",
     "evalue": "UndefVarError: init_jt not defined",
     "output_type": "error",
     "traceback": [
      "UndefVarError: init_jt not defined",
      "",
      "Stacktrace:",
      " [1] top-level scope at none:0"
     ]
    }
   ],
   "source": [
    "propagated_jt = global_propagation(init_jt, an)\n",
    "# propagated_jt = global_propagation(propagated_jt, bn)"
   ]
  },
  {
   "cell_type": "code",
   "execution_count": 54,
   "metadata": {},
   "outputs": [
    {
     "ename": "LoadError",
     "evalue": "UndefVarError: propagated_jt not defined",
     "output_type": "error",
     "traceback": [
      "UndefVarError: propagated_jt not defined",
      "",
      "Stacktrace:",
      " [1] top-level scope at none:0"
     ]
    }
   ],
   "source": [
    "[variables(c) for c in propagated_jt.clusters]"
   ]
  },
  {
   "cell_type": "code",
   "execution_count": 55,
   "metadata": {},
   "outputs": [
    {
     "ename": "LoadError",
     "evalue": "UndefVarError: propagated_jt not defined",
     "output_type": "error",
     "traceback": [
      "UndefVarError: propagated_jt not defined",
      "",
      "Stacktrace:",
      " [1] top-level scope at none:0"
     ]
    }
   ],
   "source": [
    "BCD = propagated_jt.vertex_to_num[5]"
   ]
  },
  {
   "cell_type": "code",
   "execution_count": 56,
   "metadata": {},
   "outputs": [
    {
     "ename": "LoadError",
     "evalue": "UndefVarError: BCD not defined",
     "output_type": "error",
     "traceback": [
      "UndefVarError: BCD not defined",
      "",
      "Stacktrace:",
      " [1] top-level scope at none:0"
     ]
    }
   ],
   "source": [
    "ptrace(BCD, [2,2,2], [1,3])"
   ]
  },
  {
   "cell_type": "code",
   "execution_count": 57,
   "metadata": {},
   "outputs": [
    {
     "ename": "LoadError",
     "evalue": "UndefVarError: propagated_jt not defined",
     "output_type": "error",
     "traceback": [
      "UndefVarError: propagated_jt not defined",
      "",
      "Stacktrace:",
      " [1] top-level scope at none:0"
     ]
    }
   ],
   "source": [
    "ABC = propagated_jt.vertex_to_num[6]"
   ]
  },
  {
   "cell_type": "code",
   "execution_count": 58,
   "metadata": {},
   "outputs": [
    {
     "data": {
      "text/plain": [
       "2×2 Array{Float64,2}:\n",
       " 0.68  0.0 \n",
       " 0.0   0.32"
      ]
     },
     "execution_count": 58,
     "metadata": {},
     "output_type": "execute_result"
    }
   ],
   "source": [
    "ptrace(ABD, [2,2,2], [1,2])"
   ]
  },
  {
   "cell_type": "code",
   "execution_count": 59,
   "metadata": {},
   "outputs": [
    {
     "ename": "LoadError",
     "evalue": "UndefVarError: propagated_jt not defined",
     "output_type": "error",
     "traceback": [
      "UndefVarError: propagated_jt not defined",
      "",
      "Stacktrace:",
      " [1] top-level scope at none:0"
     ]
    }
   ],
   "source": [
    "# CDE\n",
    "ptrace(propagated_jt.vertex_to_num[4], [2,2,2], [2,3])\n"
   ]
  },
  {
   "cell_type": "markdown",
   "metadata": {},
   "source": [
    "# To sum everything up"
   ]
  },
  {
   "cell_type": "code",
   "execution_count": 60,
   "metadata": {},
   "outputs": [
    {
     "data": {
      "text/plain": [
       "AcausalNets.Structures.DiscreteBayesNet{AcausalNets.Systems.DiscreteSystem{AbstractArray{T,2} where T}}({8, 9} directed simple Int64 graph, AcausalNets.Systems.DiscreteSystem{AbstractArray{T,2} where T}[DiscreteSystem{AbstractArray{T,2} where T}(Variable[], Variable[Variable(:a, 2)], [0.5 0.0; 0.0 0.5]), DiscreteSystem{AbstractArray{T,2} where T}(Variable[Variable(:a, 2)], Variable[Variable(:b, 2)], [0.5 0.0 0.0 0.0; 0.0 0.5 0.0 0.0; 0.0 0.0 0.4 0.0; 0.0 0.0 0.0 0.6]), DiscreteSystem{AbstractArray{T,2} where T}(Variable[Variable(:a, 2)], Variable[Variable(:c, 2)], [0.7 0.0 0.0 0.0; 0.0 0.3 0.0 0.0; 0.0 0.0 0.2 0.0; 0.0 0.0 0.0 0.8]), DiscreteSystem{AbstractArray{T,2} where T}(Variable[Variable(:b, 2)], Variable[Variable(:d, 2)], [0.9 0.0 0.0 0.0; 0.0 0.1 0.0 0.0; 0.0 0.0 0.5 0.0; 0.0 0.0 0.0 0.5]), DiscreteSystem{AbstractArray{T,2} where T}(Variable[Variable(:c, 2)], Variable[Variable(:e, 2)], [0.3 0.0 0.0 0.0; 0.0 0.7 0.0 0.0; 0.0 0.0 0.6 0.0; 0.0 0.0 0.0 0.4]), DiscreteSystem{AbstractArray{T,2} where T}(Variable[Variable(:d, 2), Variable(:e, 2)], Variable[Variable(:f, 2)], [0.01 0.0 … 0.0 0.0; 0.0 0.99 … 0.0 0.0; … ; 0.0 0.0 … 0.99 0.0; 0.0 0.0 … 0.0 0.01]), DiscreteSystem{AbstractArray{T,2} where T}(Variable[Variable(:c, 2)], Variable[Variable(:g, 2)], [0.8 0.0 0.0 0.0; 0.0 0.2 0.0 0.0; 0.0 0.0 0.1 0.0; 0.0 0.0 0.0 0.9]), DiscreteSystem{AbstractArray{T,2} where T}(Variable[Variable(:e, 2), Variable(:g, 2)], Variable[Variable(:h, 2)], [0.05 0.0 … 0.0 0.0; 0.0 0.95 … 0.0 0.0; … ; 0.0 0.0 … 0.95 0.0; 0.0 0.0 … 0.0 0.05])])"
      ]
     },
     "execution_count": 60,
     "metadata": {},
     "output_type": "execute_result"
    }
   ],
   "source": [
    "an = example_an\n",
    "# gplot(bn.dag, nodelabel=nodes(bn))"
   ]
  },
  {
   "cell_type": "code",
   "execution_count": 61,
   "metadata": {},
   "outputs": [
    {
     "ename": "LoadError",
     "evalue": "MethodError: no method matching variable_to_node(::AcausalNets.Structures.DiscreteBayesNet{AcausalNets.Systems.DiscreteSystem{AbstractArray{T,2} where T}}, ::Variable)",
     "output_type": "error",
     "traceback": [
      "MethodError: no method matching variable_to_node(::AcausalNets.Structures.DiscreteBayesNet{AcausalNets.Systems.DiscreteSystem{AbstractArray{T,2} where T}}, ::Variable)",
      "",
      "Stacktrace:",
      " [1] parent_systems(::AcausalNets.Structures.DiscreteBayesNet{AcausalNets.Systems.DiscreteSystem{AbstractArray{T,2} where T}}, ::AcausalNets.Systems.DiscreteSystem{AbstractArray{T,2} where T}) at ./In[6]:4",
      " [2] moral_graph(::AcausalNets.Structures.DiscreteBayesNet{AcausalNets.Systems.DiscreteSystem{AbstractArray{T,2} where T}}) at ./In[7]:4",
      " [3] top-level scope at none:0"
     ]
    }
   ],
   "source": [
    "moral_g = moral_graph(an)\n",
    "tri_moral_graph, cliques = triangulate(moral_g, an)\n",
    "jt = make_join_tree(cliques, an);"
   ]
  },
  {
   "cell_type": "code",
   "execution_count": 62,
   "metadata": {},
   "outputs": [
    {
     "data": {
      "text/plain": [
       "Dict{Variable,Array{Complex{Float64},2}} with 1 entry:\n",
       "  Variable(:a, 2) => Complex{Float64}[1.0+0.0im 0.0+0.0im; 0.0+0.0im 0.0+0.0im]"
      ]
     },
     "execution_count": 62,
     "metadata": {},
     "output_type": "execute_result"
    }
   ],
   "source": [
    "a = 0\n",
    "a_oper = ketbra(a,a,2)\n",
    "assignments = Dict([\n",
    "        var_a => a_oper\n",
    "        ])"
   ]
  },
  {
   "cell_type": "code",
   "execution_count": 63,
   "metadata": {},
   "outputs": [
    {
     "ename": "LoadError",
     "evalue": "UndefVarError: jt not defined",
     "output_type": "error",
     "traceback": [
      "UndefVarError: jt not defined",
      "",
      "Stacktrace:",
      " [1] top-level scope at none:0"
     ]
    }
   ],
   "source": [
    "initialized_jt = initialize(jt, an, assignments)\n",
    "propagated_jt = global_propagation(initialized_jt, an)\n",
    "propagated_jt.clusters"
   ]
  },
  {
   "cell_type": "code",
   "execution_count": 64,
   "metadata": {},
   "outputs": [
    {
     "ename": "LoadError",
     "evalue": "UndefVarError: propagated_jt not defined",
     "output_type": "error",
     "traceback": [
      "UndefVarError: propagated_jt not defined",
      "",
      "Stacktrace:",
      " [1] top-level scope at none:0"
     ]
    }
   ],
   "source": [
    "aBC = propagated_jt.vertex_to_num[6]\n",
    "ptrace(aBC, [2,2,2], [2,3])"
   ]
  },
  {
   "cell_type": "code",
   "execution_count": null,
   "metadata": {},
   "outputs": [],
   "source": []
  }
 ],
 "metadata": {
  "kernelspec": {
   "display_name": "Julia 0.7.0",
   "language": "julia",
   "name": "julia-0.7"
  },
  "language_info": {
   "file_extension": ".jl",
   "mimetype": "application/julia",
   "name": "julia",
   "version": "0.7.0"
  }
 },
 "nbformat": 4,
 "nbformat_minor": 2
}
