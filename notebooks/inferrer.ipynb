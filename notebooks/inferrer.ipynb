{
 "cells": [
  {
   "cell_type": "code",
   "execution_count": null,
   "metadata": {},
   "outputs": [],
   "source": [
    "using AcausalNets\n",
    "using QI\n",
    "using LightGraphs\n",
    "using LinearAlgebra"
   ]
  },
  {
   "cell_type": "code",
   "execution_count": null,
   "metadata": {},
   "outputs": [],
   "source": [
    "roA = Diagonal([\n",
    "        .5, #A0\n",
    "        .5  #A1\n",
    "        ])\n",
    "\n",
    "roBwA = Diagonal([\n",
    "        .6, #A0, B0\n",
    "        .4, #A0, B1\n",
    "        .5, #A1, B0\n",
    "        .5, #A1, B1\n",
    "        ])\n",
    "\n",
    "roCwA = Diagonal([\n",
    "        .8, #A0, C0\n",
    "        .2, #A0, C1\n",
    "        .3, #A1, C0\n",
    "        .7  #A1, C1\n",
    "        ])\n",
    "\n",
    "roDwB = Diagonal([\n",
    "        .5, #B0, D0\n",
    "        .5, #B0, D1\n",
    "        .1, #B1, D0\n",
    "        .9  #B1, D1\n",
    "        ])\n",
    "\n",
    "roEwC = Diagonal([\n",
    "        .4, #C0, E0\n",
    "        .6, #C0, E1\n",
    "        .7, #C1, E0\n",
    "        .3  #C1, E1\n",
    "        ])\n",
    "\n",
    "roFwDE = Diagonal([\n",
    "        .01, #D0, E0, F0\n",
    "        .99, #D0, E0, F1\n",
    "        .99, #D0, E1, F0\n",
    "        .01, #D0, E1, F1\n",
    "        .99, #D1, E0, F0\n",
    "        .01, #D1, E0, F1\n",
    "        .99, #D1, E1, F0\n",
    "        .01  #D1, E1, F1\n",
    "        ])\n",
    "\n",
    "roGwC = Diagonal([\n",
    "        .9, #C0, G0\n",
    "        .1, #C0, G1\n",
    "        .2, #C1, G0\n",
    "        .8  #C1, G1\n",
    "        ])\n",
    "roHwEG = Diagonal([\n",
    "        .05, #E0, G0, H0\n",
    "        .95, #E0, G0, H1\n",
    "        .05, #E0, G1, H0\n",
    "        .95, #E0, G1, H1\n",
    "        .05, #E1, G0, H0\n",
    "        .95, #E1, G0, H1\n",
    "        .95, #E1, G1, H0\n",
    "        .05  #E1, G1, H1\n",
    "        ])\n",
    "\n",
    "var_a = Variable(:a, 2)\n",
    "var_b = Variable(:b, 2)\n",
    "var_c = Variable(:c, 2)\n",
    "var_d = Variable(:d, 2)\n",
    "var_e = Variable(:e, 2)\n",
    "var_f = Variable(:f, 2)\n",
    "var_g = Variable(:g, 2)\n",
    "var_h = Variable(:h, 2)\n",
    "\n",
    "sys_a = DiscreteQuantumSystem([var_a], roA)\n",
    "sys_b = DiscreteQuantumSystem([var_a], [var_b], roBwA)\n",
    "sys_c = DiscreteQuantumSystem([var_a], [var_c], roCwA)\n",
    "sys_d = DiscreteQuantumSystem([var_b], [var_d], roDwB)\n",
    "sys_e = DiscreteQuantumSystem([var_c], [var_e], roEwC)\n",
    "sys_f = DiscreteQuantumSystem([var_d, var_e], [var_f], roFwDE)\n",
    "sys_g = DiscreteQuantumSystem([var_c], [var_g], roGwC)\n",
    "sys_h = DiscreteQuantumSystem([var_e, var_g], [var_h], roHwEG)\n",
    "\n",
    "\n",
    "example_an = AcausalNet()\n",
    "push!(example_an, sys_a)\n",
    "push!(example_an, sys_b)\n",
    "push!(example_an, sys_c)\n",
    "push!(example_an, sys_d)\n",
    "push!(example_an, sys_e)\n",
    "push!(example_an, sys_f)\n",
    "push!(example_an, sys_g)\n",
    "push!(example_an, sys_h)\n",
    "\n",
    "an = example_an\n",
    "show(an)"
   ]
  },
  {
   "cell_type": "code",
   "execution_count": null,
   "metadata": {},
   "outputs": [],
   "source": [
    "inferrer = Inferrer(an)\n",
    "variables(inferrer.bayes_net)"
   ]
  },
  {
   "cell_type": "code",
   "execution_count": null,
   "metadata": {},
   "outputs": [],
   "source": [
    "a_obs = Evidence([var_a], ketbra(1,1,2))\n",
    "\n",
    "observations = Evidence{Matrix{Float64}}[] \n",
    "observations = [a_obs]"
   ]
  },
  {
   "cell_type": "code",
   "execution_count": null,
   "metadata": {},
   "outputs": [],
   "source": [
    "inferred_system = infer(inferrer, [var_f, var_a], observations)\n",
    "variables(inferred_system)"
   ]
  },
  {
   "cell_type": "code",
   "execution_count": null,
   "metadata": {},
   "outputs": [],
   "source": [
    "real(distribution(inferred_system))"
   ]
  }
 ],
 "metadata": {
  "kernelspec": {
   "display_name": "Julia 1.0.2",
   "language": "julia",
   "name": "julia-1.0"
  },
  "language_info": {
   "file_extension": ".jl",
   "mimetype": "application/julia",
   "name": "julia",
   "version": "1.0.2"
  }
 },
 "nbformat": 4,
 "nbformat_minor": 2
}
