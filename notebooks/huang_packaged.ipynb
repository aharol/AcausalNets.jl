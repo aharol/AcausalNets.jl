{
 "cells": [
  {
   "cell_type": "code",
   "execution_count": null,
   "metadata": {},
   "outputs": [],
   "source": [
    "using AcausalNets\n",
    "using QI\n",
    "using LightGraphs\n",
    "using LinearAlgebra"
   ]
  },
  {
   "cell_type": "code",
   "execution_count": null,
   "metadata": {},
   "outputs": [],
   "source": [
    "import AcausalNets.Systems: \n",
    "    DiscreteSystem,\n",
    "    multiply_star,\n",
    "    divide_star,\n",
    "    multiply_kron,\n",
    "    sum_distribution,\n",
    "    QuantumDistribution,\n",
    "    shallowcopy,\n",
    "    identity_distribution,\n",
    "    permute_distribution,\n",
    "    merge_systems\n",
    "\n",
    "import AcausalNets.Inference:\n",
    "    JoinTree,\n",
    "    parent_cliques_dict\n",
    "\n",
    "import AcausalNets.Common:\n",
    "    Variable,\n",
    "    is_subset\n",
    "\n",
    "import AcausalNets.Algebra:\n",
    "    event"
   ]
  },
  {
   "cell_type": "code",
   "execution_count": null,
   "metadata": {},
   "outputs": [],
   "source": [
    "roA = Diagonal([.5, .5])\n",
    "roBwA = Diagonal([.5, .5, .4, .6])\n",
    "roCwA = Diagonal([.7, .3, .2, .8])\n",
    "roDwB = Diagonal([.9, .1, .5, .5])\n",
    "roEwC = Diagonal([.3, .7, .6, .4])\n",
    "roFwDE = Diagonal([.01, .99, .01, .99, .01, .99, .99, .01])\n",
    "roGwC = Diagonal([.8, .2, .1, .9])\n",
    "roHwEG = Diagonal([.05, .95, .95, .05, .95, .05, .95, .05])\n",
    "\n",
    "var_a = Variable(:a, 2)\n",
    "var_b = Variable(:b, 2)\n",
    "var_c = Variable(:c, 2)\n",
    "var_d = Variable(:d, 2)\n",
    "var_e = Variable(:e, 2)\n",
    "var_f = Variable(:f, 2)\n",
    "var_g = Variable(:g, 2)\n",
    "var_h = Variable(:h, 2)\n",
    "\n",
    "sys_a = DiscreteQuantumSystem([var_a], roA)\n",
    "sys_b = DiscreteQuantumSystem([var_a], [var_b], roBwA)\n",
    "sys_c = DiscreteQuantumSystem([var_a], [var_c], roCwA)\n",
    "sys_d = DiscreteQuantumSystem([var_b], [var_d], roDwB)\n",
    "sys_e = DiscreteQuantumSystem([var_c], [var_e], roEwC)\n",
    "sys_f = DiscreteQuantumSystem([var_d, var_e], [var_f], roFwDE)\n",
    "sys_g = DiscreteQuantumSystem([var_c], [var_g], roGwC)\n",
    "sys_h = DiscreteQuantumSystem([var_e, var_g], [var_h], roHwEG)\n",
    "\n",
    "\n",
    "example_an = AcausalNet()\n",
    "push!(example_an, sys_a)\n",
    "push!(example_an, sys_b)\n",
    "push!(example_an, sys_c)\n",
    "push!(example_an, sys_d)\n",
    "push!(example_an, sys_e)\n",
    "push!(example_an, sys_f)\n",
    "push!(example_an, sys_g)\n",
    "push!(example_an, sys_h)\n",
    "\n",
    "# gplot(example_bn.dag, nodelabel=nodes(example_bn))\n",
    "# [v.target for v in example_bn.cpds]"
   ]
  },
  {
   "cell_type": "code",
   "execution_count": null,
   "metadata": {},
   "outputs": [],
   "source": [
    "# roAB =1/3*(ket(0,9)+ket(4,9)+ket(8,9))* (bra(0,9)+bra(4,9)+bra(8,9)) \n",
    "\n",
    "roAB = 1/6*(ket(0,9)+ket(1,9))*(bra(0,9)+bra(1,9))+\n",
    "1/6*(ket(4,9)+ket(5,9))*(bra(4,9)+bra(5,9))+\n",
    "1/6*(ket(8,9)+ket(6,9))*(bra(8,9)+bra(6,9))\n",
    "\n",
    "roCwAB = Diagonal([\n",
    "        0,1/2,1/2, #A=0, B=0\n",
    "        0,0,1, #A=0, B=1\n",
    "        0,1,0, #A=0, B=2\n",
    "        0,0,1, #A=1, B=0\n",
    "        1/2,0,1/2, #A=1, B=1\n",
    "        1,0,0, #A=1, B=2\n",
    "        0,1,0, #A=2, B=0\n",
    "        1,0,0, #A=2, B=1\n",
    "        1/2,1/2,0 #A=2, B=2\n",
    "        ]); #\n",
    "\n",
    "var_aq = Variable(:a, 3)\n",
    "\n",
    "var_bq = Variable(:b, 3)\n",
    "var_cq = Variable(:c, 3)\n",
    "\n",
    "sys_ab = DiscreteQuantumSystem([var_aq, var_bq], roAB)\n",
    "sys_c_ab = DiscreteQuantumSystem([var_aq, var_bq], [var_cq], roCwAB)\n",
    "quantum_an = AcausalNet()\n",
    "\n",
    "push!(quantum_an, sys_ab)\n",
    "push!(quantum_an, sys_c_ab)"
   ]
  },
  {
   "cell_type": "code",
   "execution_count": null,
   "metadata": {},
   "outputs": [],
   "source": [
    "roA = Diagonal([1/3, 1/3, 1/3])\n",
    "\n",
    "roB = Diagonal([1/3, 1/3, 1/3])\n",
    "roCwAB = Diagonal([\n",
    "        0,1/2, 1/2, #A=0, B=0\n",
    "        0,0,1, #A=0, B=1\n",
    "        #CHANGED to that ro(C | AB) != ro(C | BA) - Originally BE 0,1,0\n",
    "        0,1,0, #A=0, B=2 \n",
    "        0,0,1, #A=1, B=0\n",
    "        1/2,0,1/2, #A=1, B=1\n",
    "        1,0,0, #A=1, B=2\n",
    "        0,1,0, #A=2, B=0\n",
    "        1,0,0, #A=2, B=1|\n",
    "        1/2,1/2,0 #A=2, B=2\n",
    "        ]); #\n",
    "\n",
    "var_am = Variable(:a, 3)\n",
    "\n",
    "var_bm = Variable(:b, 3)\n",
    "var_cm = Variable(:c, 3)\n",
    "\n",
    "sys_am = DiscreteQuantumSystem([var_am], roA)\n",
    "\n",
    "sys_bm = DiscreteQuantumSystem([var_bm], roB)\n",
    "\n",
    "sys_c_abm = DiscreteQuantumSystem([var_am, var_bm], [var_cm], roCwAB)\n",
    "classic_anm = AcausalNet()\n",
    "\n",
    "push!(classic_anm, sys_am)\n",
    "push!(classic_anm, sys_bm)\n",
    "push!(classic_anm, sys_c_abm)"
   ]
  },
  {
   "cell_type": "code",
   "execution_count": null,
   "metadata": {},
   "outputs": [],
   "source": [
    "an = example_an"
   ]
  },
  {
   "cell_type": "code",
   "execution_count": null,
   "metadata": {},
   "outputs": [],
   "source": [
    "import AcausalNets.Inference: moral_graph\n",
    "mg = moral_graph(an)\n",
    "println(variables_names(an))\n",
    "mg.fadjlist"
   ]
  },
  {
   "cell_type": "code",
   "execution_count": null,
   "metadata": {},
   "outputs": [],
   "source": [
    "import AcausalNets.Inference: triangulate\n",
    "triangulated, cliques = triangulate(mg, an)\n",
    "\n",
    "println(variables_names(an))\n",
    "triangulated.fadjlist"
   ]
  },
  {
   "cell_type": "code",
   "execution_count": null,
   "metadata": {},
   "outputs": [],
   "source": [
    "import AcausalNets.Inference: \n",
    "    JoinTree,\n",
    "    Evidence,\n",
    "    apply_evidence,\n",
    "    apply_observations\n",
    "jt = JoinTree(cliques, an);"
   ]
  },
  {
   "cell_type": "code",
   "execution_count": null,
   "metadata": {},
   "outputs": [],
   "source": [
    "[(k, variables(v)) for (k, v) in jt.vertex_to_cluster]"
   ]
  },
  {
   "cell_type": "code",
   "execution_count": null,
   "metadata": {},
   "outputs": [],
   "source": [
    "par_cli_dict = parent_cliques_dict(cliques, an)\n",
    "a_obs = Evidence([var_aq], real(ketbra(0,0,3)))\n",
    "b_obs = Evidence([var_bq], real(ketbra(2,2,3)))\n",
    "c_obs = Evidence([var_cq], real(ketbra(1,1,3)))\n",
    "\n",
    "observations = [b_obs, c_obs] #, e_obs]\n",
    "# observations = DiscreteSystem{Array{Float64,2}}[]"
   ]
  },
  {
   "cell_type": "code",
   "execution_count": null,
   "metadata": {},
   "outputs": [],
   "source": [
    "obs_jt = apply_observations(jt, par_cli_dict, observations)"
   ]
  },
  {
   "cell_type": "code",
   "execution_count": null,
   "metadata": {},
   "outputs": [],
   "source": [
    "ptrace(real(obs_jt.vertex_to_cluster[1].distribution), [2,2,2], [3])"
   ]
  },
  {
   "cell_type": "code",
   "execution_count": null,
   "metadata": {},
   "outputs": [],
   "source": [
    "import AcausalNets.Inference: single_message_pass"
   ]
  },
  {
   "cell_type": "code",
   "execution_count": null,
   "metadata": {},
   "outputs": [],
   "source": [
    "passed = single_message_pass(4, 5, jt)\n",
    "passed_2 = single_message_pass(5, 4, passed);\n",
    "\n",
    "ptrace(distribution(passed_2.vertex_to_cluster[4]), [2,2,2], [3])"
   ]
  },
  {
   "cell_type": "code",
   "execution_count": null,
   "metadata": {},
   "outputs": [],
   "source": [
    "ptrace(distribution(passed_2.vertex_to_cluster[5]), [2,2,2], [1])# bc in abc and bcd are now consistent"
   ]
  },
  {
   "cell_type": "code",
   "execution_count": null,
   "metadata": {},
   "outputs": [],
   "source": [
    "import AcausalNets.Inference: global_propagation\n",
    "\n",
    "propagated_jt = global_propagation(jt)"
   ]
  },
  {
   "cell_type": "code",
   "execution_count": null,
   "metadata": {},
   "outputs": [],
   "source": [
    "ptrace(distribution(propagated_jt.vertex_to_cluster[4]), [2,2,2], [3])"
   ]
  },
  {
   "cell_type": "code",
   "execution_count": null,
   "metadata": {},
   "outputs": [],
   "source": [
    "ptrace(distribution(propagated_jt.vertex_to_cluster[5]), [2,2,2], [3])"
   ]
  },
  {
   "cell_type": "code",
   "execution_count": null,
   "metadata": {},
   "outputs": [],
   "source": [
    "real(roAB)"
   ]
  },
  {
   "cell_type": "code",
   "execution_count": null,
   "metadata": {},
   "outputs": [],
   "source": [
    "dist = distribution(jt.vertex_to_cluster[1])\n",
    "real(ptrace(dist, [3,3,3], [3]))"
   ]
  },
  {
   "cell_type": "code",
   "execution_count": null,
   "metadata": {},
   "outputs": [],
   "source": []
  }
 ],
 "metadata": {
  "kernelspec": {
   "display_name": "Julia 0.7.0",
   "language": "julia",
   "name": "julia-0.7"
  },
  "language_info": {
   "file_extension": ".jl",
   "mimetype": "application/julia",
   "name": "julia",
   "version": "0.7.0"
  }
 },
 "nbformat": 4,
 "nbformat_minor": 2
}
