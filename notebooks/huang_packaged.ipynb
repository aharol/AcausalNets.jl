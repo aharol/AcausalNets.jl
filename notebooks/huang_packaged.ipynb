{
 "cells": [
  {
   "cell_type": "code",
   "execution_count": 1,
   "metadata": {},
   "outputs": [
    {
     "name": "stderr",
     "output_type": "stream",
     "text": [
      "┌ Info: Recompiling stale cache file /home/marcin/.julia/compiled/v0.7/AcausalNets/sM5bh.ji for AcausalNets [f45f996a-9c6d-58c4-b63c-9e6370055198]\n",
      "└ @ Base loading.jl:1185\n",
      "┌ Warning: Package AcausalNets does not have QI in its dependencies:\n",
      "│ - If you have AcausalNets checked out for development and have\n",
      "│   added QI as a dependency but haven't updated your primary\n",
      "│   environment's manifest file, try `Pkg.resolve()`.\n",
      "│ - Otherwise you may need to report an issue with AcausalNets\n",
      "└ Loading QI into AcausalNets from project dependency, future warnings for AcausalNets are suppressed.\n",
      "WARNING: Method definition (::Type{QI.Stinespring{T} where T<:(AbstractArray{#s19, 2} where #s19<:Number)})(T<:(AbstractArray{#s19, 2} where #s19<:Number), Int64, Int64) where {T<:(AbstractArray{#s19, 2} where #s19<:Number)} in module QI at /home/marcin/.julia/dev/QI/src/channels.jl:112 overwritten at /home/marcin/.julia/dev/QI/src/channels.jl:228.\n",
      "WARNING: Method definition (::Type{QI.Stinespring{T} where T<:(AbstractArray{#s19, 2} where #s19<:Number)})(T<:(AbstractArray{#s17, 2} where #s17<:Number), Int64, Int64) where {T<:(AbstractArray{#s17, 2} where #s17<:Number)} in module QI at /home/marcin/.julia/dev/QI/src/channels.jl:228 overwritten at /home/marcin/.julia/dev/QI/src/channels.jl:112.\n",
      "WARNING: Method definition (::Type{QI.Stinespring{T} where T<:(AbstractArray{#s19, 2} where #s19<:Number)})(T<:(AbstractArray{#s19, 2} where #s19<:Number), Int64, Int64) where {T<:(AbstractArray{#s19, 2} where #s19<:Number)} in module QI at /home/marcin/.julia/dev/QI/src/channels.jl:112 overwritten at /home/marcin/.julia/dev/QI/src/channels.jl:228.\n"
     ]
    }
   ],
   "source": [
    "using AcausalNets\n",
    "using QI\n",
    "using LightGraphs\n",
    "using LinearAlgebra"
   ]
  },
  {
   "cell_type": "code",
   "execution_count": 2,
   "metadata": {},
   "outputs": [
    {
     "data": {
      "text/plain": [
       "AcausalNets.Structures.DiscreteBayesNet{AcausalNets.Systems.DiscreteSystem{AbstractArray{T,2} where T}}({8, 9} directed simple Int64 graph, AcausalNets.Systems.DiscreteSystem{AbstractArray{T,2} where T}[DiscreteSystem{AbstractArray{T,2} where T}(Variable[], Variable[Variable(:a, 2)], [0.5 0.0; 0.0 0.5]), DiscreteSystem{AbstractArray{T,2} where T}(Variable[Variable(:a, 2)], Variable[Variable(:b, 2)], [0.5 0.0 0.0 0.0; 0.0 0.5 0.0 0.0; 0.0 0.0 0.4 0.0; 0.0 0.0 0.0 0.6]), DiscreteSystem{AbstractArray{T,2} where T}(Variable[Variable(:a, 2)], Variable[Variable(:c, 2)], [0.7 0.0 0.0 0.0; 0.0 0.3 0.0 0.0; 0.0 0.0 0.2 0.0; 0.0 0.0 0.0 0.8]), DiscreteSystem{AbstractArray{T,2} where T}(Variable[Variable(:b, 2)], Variable[Variable(:d, 2)], [0.9 0.0 0.0 0.0; 0.0 0.1 0.0 0.0; 0.0 0.0 0.5 0.0; 0.0 0.0 0.0 0.5]), DiscreteSystem{AbstractArray{T,2} where T}(Variable[Variable(:c, 2)], Variable[Variable(:e, 2)], [0.3 0.0 0.0 0.0; 0.0 0.7 0.0 0.0; 0.0 0.0 0.6 0.0; 0.0 0.0 0.0 0.4]), DiscreteSystem{AbstractArray{T,2} where T}(Variable[Variable(:d, 2), Variable(:e, 2)], Variable[Variable(:f, 2)], [0.01 0.0 … 0.0 0.0; 0.0 0.99 … 0.0 0.0; … ; 0.0 0.0 … 0.99 0.0; 0.0 0.0 … 0.0 0.01]), DiscreteSystem{AbstractArray{T,2} where T}(Variable[Variable(:c, 2)], Variable[Variable(:g, 2)], [0.8 0.0 0.0 0.0; 0.0 0.2 0.0 0.0; 0.0 0.0 0.1 0.0; 0.0 0.0 0.0 0.9]), DiscreteSystem{AbstractArray{T,2} where T}(Variable[Variable(:e, 2), Variable(:g, 2)], Variable[Variable(:h, 2)], [0.05 0.0 … 0.0 0.0; 0.0 0.95 … 0.0 0.0; … ; 0.0 0.0 … 0.95 0.0; 0.0 0.0 … 0.0 0.05])])"
      ]
     },
     "execution_count": 2,
     "metadata": {},
     "output_type": "execute_result"
    }
   ],
   "source": [
    "roA = Diagonal([.5, .5])\n",
    "roBwA = Diagonal([.5, .5, .4, .6])\n",
    "roCwA = Diagonal([.7, .3, .2, .8])\n",
    "roDwB = Diagonal([.9, .1, .5, .5])\n",
    "roEwC = Diagonal([.3, .7, .6, .4])\n",
    "roFwDE = Diagonal([.01, .99, .01, .99, .01, .99, .99, .01])\n",
    "roGwC = Diagonal([.8, .2, .1, .9])\n",
    "roHwEG = Diagonal([.05, .95, .95, .05, .95, .05, .95, .05])\n",
    "\n",
    "var_a = Variable(:a, 2)\n",
    "var_b = Variable(:b, 2)\n",
    "var_c = Variable(:c, 2)\n",
    "var_d = Variable(:d, 2)\n",
    "var_e = Variable(:e, 2)\n",
    "var_f = Variable(:f, 2)\n",
    "var_g = Variable(:g, 2)\n",
    "var_h = Variable(:h, 2)\n",
    "\n",
    "sys_a = DiscreteQuantumSystem([var_a], roA)\n",
    "sys_b = DiscreteQuantumSystem([var_a], [var_b], roBwA)\n",
    "sys_c = DiscreteQuantumSystem([var_a], [var_c], roCwA)\n",
    "sys_d = DiscreteQuantumSystem([var_b], [var_d], roDwB)\n",
    "sys_e = DiscreteQuantumSystem([var_c], [var_e], roEwC)\n",
    "sys_f = DiscreteQuantumSystem([var_d, var_e], [var_f], roFwDE)\n",
    "sys_g = DiscreteQuantumSystem([var_c], [var_g], roGwC)\n",
    "sys_h = DiscreteQuantumSystem([var_e, var_g], [var_h], roHwEG)\n",
    "\n",
    "\n",
    "example_an = AcausalNet()\n",
    "push!(example_an, sys_a)\n",
    "push!(example_an, sys_b)\n",
    "push!(example_an, sys_c)\n",
    "push!(example_an, sys_d)\n",
    "push!(example_an, sys_e)\n",
    "push!(example_an, sys_f)\n",
    "push!(example_an, sys_g)\n",
    "push!(example_an, sys_h)\n",
    "\n",
    "# gplot(example_bn.dag, nodelabel=nodes(example_bn))\n",
    "# [v.target for v in example_bn.cpds]"
   ]
  },
  {
   "cell_type": "code",
   "execution_count": 3,
   "metadata": {},
   "outputs": [],
   "source": [
    "an = example_an;"
   ]
  },
  {
   "cell_type": "code",
   "execution_count": 4,
   "metadata": {},
   "outputs": [
    {
     "name": "stdout",
     "output_type": "stream",
     "text": [
      "Symbol[:a, :b, :c, :d, :e, :f, :g, :h]\n"
     ]
    },
    {
     "data": {
      "text/plain": [
       "8-element Array{Array{Int64,1},1}:\n",
       " [2, 3]         \n",
       " [1, 4]         \n",
       " [1, 5, 7]      \n",
       " [2, 5, 6]      \n",
       " [3, 4, 6, 7, 8]\n",
       " [4, 5]         \n",
       " [3, 5, 8]      \n",
       " [5, 7]         "
      ]
     },
     "execution_count": 4,
     "metadata": {},
     "output_type": "execute_result"
    }
   ],
   "source": [
    "import AcausalNets.Inference: moral_graph\n",
    "mg = moral_graph(an)\n",
    "println(variables_names(an))\n",
    "mg.fadjlist"
   ]
  },
  {
   "cell_type": "code",
   "execution_count": 5,
   "metadata": {},
   "outputs": [
    {
     "name": "stdout",
     "output_type": "stream",
     "text": [
      "Symbol[:a, :b, :c, :d, :e, :f, :g, :h]\n"
     ]
    },
    {
     "data": {
      "text/plain": [
       "8-element Array{Array{Int64,1},1}:\n",
       " [2, 3]         \n",
       " [1, 3, 4]      \n",
       " [1, 2, 4, 5, 7]\n",
       " [2, 3, 5, 6]   \n",
       " [3, 4, 6, 7, 8]\n",
       " [4, 5]         \n",
       " [3, 5, 8]      \n",
       " [5, 7]         "
      ]
     },
     "execution_count": 5,
     "metadata": {},
     "output_type": "execute_result"
    }
   ],
   "source": [
    "import AcausalNets.Inference: triangulate\n",
    "triangulated, cliques = triangulate(mg, an)\n",
    "\n",
    "println(variables_names(an))\n",
    "triangulated.fadjlist"
   ]
  },
  {
   "cell_type": "code",
   "execution_count": 6,
   "metadata": {},
   "outputs": [
    {
     "ename": "LoadError",
     "evalue": "MethodError: Cannot `convert` an object of type Diagonal{Float64,Array{Float64,1}} to an object of type AcausalNets.Systems.DiscreteSystem{AbstractArray{T,2} where T}\nClosest candidates are:\n  convert(::Type{T}, !Matched::T) where T at essentials.jl:154",
     "output_type": "error",
     "traceback": [
      "MethodError: Cannot `convert` an object of type Diagonal{Float64,Array{Float64,1}} to an object of type AcausalNets.Systems.DiscreteSystem{AbstractArray{T,2} where T}\nClosest candidates are:\n  convert(::Type{T}, !Matched::T) where T at essentials.jl:154",
      "",
      "Stacktrace:",
      " [1] setindex!(::Dict{Int64,AcausalNets.Systems.DiscreteSystem{AbstractArray{T,2} where T}}, ::Diagonal{Float64,Array{Float64,1}}, ::Int64) at ./dict.jl:381",
      " [2] Type at ./dict.jl:104 [inlined]",
      " [3] convert at ./abstractdict.jl:516 [inlined]",
      " [4] JoinTree{AcausalNets.Systems.DiscreteSystem{AbstractArray{T,2} where T}}(::SimpleGraph{Int64}, ::Dict{Int64,Diagonal{Float64,Array{Float64,1}}}, ::Dict{Any,Any}) at /home/marcin/.julia/dev/AcausalNets/src/Inference/join_tree.jl:27",
      " [5] JoinTree(::Array{Array{AcausalNets.Systems.DiscreteSystem{AbstractArray{T,2} where T},1},1}, ::AcausalNets.Structures.DiscreteBayesNet{AcausalNets.Systems.DiscreteSystem{AbstractArray{T,2} where T}}) at /home/marcin/.julia/dev/AcausalNets/src/Inference/join_tree.jl:45",
      " [6] top-level scope at none:0"
     ]
    }
   ],
   "source": [
    "import AcausalNets.Inference: JoinTree\n",
    "\n",
    "jt = JoinTree(cliques, an);"
   ]
  },
  {
   "cell_type": "code",
   "execution_count": null,
   "metadata": {},
   "outputs": [],
   "source": [
    "import AcausalNets.Inference: initialize\n",
    "\n",
    "init_jt = initialize(jt, an)"
   ]
  },
  {
   "cell_type": "code",
   "execution_count": null,
   "metadata": {},
   "outputs": [],
   "source": [
    "[[variables(s) for s in c] for c in init_jt.clusters]"
   ]
  },
  {
   "cell_type": "code",
   "execution_count": null,
   "metadata": {},
   "outputs": [],
   "source": [
    "import AcausalNets.Inference: single_message_pass"
   ]
  },
  {
   "cell_type": "code",
   "execution_count": null,
   "metadata": {},
   "outputs": [],
   "source": [
    "# bc from bcd\n",
    "ptrace(init_jt.vertex_to_num[5], [2,2,2], [3])"
   ]
  },
  {
   "cell_type": "code",
   "execution_count": null,
   "metadata": {},
   "outputs": [],
   "source": [
    "# b from abc\n",
    "ptrace(init_jt.vertex_to_num[6], [2,2,2], [1])"
   ]
  },
  {
   "cell_type": "code",
   "execution_count": null,
   "metadata": {},
   "outputs": [],
   "source": [
    "passed = single_message_pass(5, 6, init_jt, an)\n",
    "passed_2 = single_message_pass(6, 5, passed, an);\n",
    "\n",
    "ptrace(passed_2.vertex_to_num[5], [2,2,2], [3])"
   ]
  },
  {
   "cell_type": "code",
   "execution_count": null,
   "metadata": {},
   "outputs": [],
   "source": [
    "ptrace(passed_2.vertex_to_num[6], [2,2,2], [1])\n",
    "# bc in abc and bcd are now consistent"
   ]
  },
  {
   "cell_type": "code",
   "execution_count": null,
   "metadata": {},
   "outputs": [],
   "source": [
    "import AcausalNets.Inference: global_propagation\n",
    "\n",
    "propagated_jt = global_propagation(init_jt, an)"
   ]
  },
  {
   "cell_type": "code",
   "execution_count": null,
   "metadata": {},
   "outputs": [],
   "source": [
    "a = 1\n",
    "a_oper = (ketbra(a,a,2) + ketbra(0,0,2)) / 2\n",
    "assignments = Dict([\n",
    "#         var_a => a_oper\n",
    "        ])\n",
    "\n",
    "initialized_jt = initialize(jt, an)\n",
    "propagated_jt = global_propagation(initialized_jt, an)\n",
    "propagated_jt.clusters\n",
    "\n",
    "aBC = deepcopy(propagated_jt.vertex_to_num[6])"
   ]
  },
  {
   "cell_type": "code",
   "execution_count": null,
   "metadata": {},
   "outputs": [],
   "source": [
    "aBC = aBC / tr(aBC)"
   ]
  },
  {
   "cell_type": "code",
   "execution_count": null,
   "metadata": {},
   "outputs": [],
   "source": [
    "ptrace(aBC, [2,2,2], [2,3])"
   ]
  },
  {
   "cell_type": "code",
   "execution_count": null,
   "metadata": {},
   "outputs": [],
   "source": [
    "xD = Dict(:a => 1, :b => 2)"
   ]
  },
  {
   "cell_type": "code",
   "execution_count": null,
   "metadata": {},
   "outputs": [],
   "source": [
    "k = keys(xD);"
   ]
  },
  {
   "cell_type": "code",
   "execution_count": null,
   "metadata": {},
   "outputs": [],
   "source": [
    "for key in k\n",
    "    println(key)\n",
    "end"
   ]
  },
  {
   "cell_type": "code",
   "execution_count": null,
   "metadata": {},
   "outputs": [],
   "source": [
    "length(xD)"
   ]
  },
  {
   "cell_type": "code",
   "execution_count": null,
   "metadata": {},
   "outputs": [],
   "source": []
  }
 ],
 "metadata": {
  "kernelspec": {
   "display_name": "Julia 0.7.0",
   "language": "julia",
   "name": "julia-0.7"
  },
  "language_info": {
   "file_extension": ".jl",
   "mimetype": "application/julia",
   "name": "julia",
   "version": "0.7.0"
  }
 },
 "nbformat": 4,
 "nbformat_minor": 2
}
