{
 "cells": [
  {
   "cell_type": "code",
   "execution_count": null,
   "metadata": {},
   "outputs": [],
   "source": [
    "using AcausalNets\n",
    "using QI\n",
    "using LightGraphs\n",
    "using LinearAlgebra"
   ]
  },
  {
   "cell_type": "code",
   "execution_count": null,
   "metadata": {},
   "outputs": [],
   "source": [
    "roA = Diagonal([.5, .5])\n",
    "roBwA = Diagonal([.5, .5, .4, .6])\n",
    "roCwA = Diagonal([.7, .3, .2, .8])\n",
    "roDwB = Diagonal([.9, .1, .5, .5])\n",
    "roEwC = Diagonal([.3, .7, .6, .4])\n",
    "roFwDE = Diagonal([.01, .99, .01, .99, .01, .99, .99, .01])\n",
    "roGwC = Diagonal([.8, .2, .1, .9])\n",
    "roHwEG = Diagonal([.05, .95, .95, .05, .95, .05, .95, .05])\n",
    "\n",
    "var_a = Variable(:a, 2)\n",
    "var_b = Variable(:b, 2)\n",
    "var_c = Variable(:c, 2)\n",
    "var_d = Variable(:d, 2)\n",
    "var_e = Variable(:e, 2)\n",
    "var_f = Variable(:f, 2)\n",
    "var_g = Variable(:g, 2)\n",
    "var_h = Variable(:h, 2)\n",
    "\n",
    "sys_a = DiscreteQuantumSystem([var_a], roA)\n",
    "sys_b = DiscreteQuantumSystem([var_a], [var_b], roBwA)\n",
    "sys_c = DiscreteQuantumSystem([var_a], [var_c], roCwA)\n",
    "sys_d = DiscreteQuantumSystem([var_b], [var_d], roDwB)\n",
    "sys_e = DiscreteQuantumSystem([var_c], [var_e], roEwC)\n",
    "sys_f = DiscreteQuantumSystem([var_d, var_e], [var_f], roFwDE)\n",
    "sys_g = DiscreteQuantumSystem([var_c], [var_g], roGwC)\n",
    "sys_h = DiscreteQuantumSystem([var_e, var_g], [var_h], roHwEG)\n",
    "\n",
    "\n",
    "example_an = AcausalNet()\n",
    "push!(example_an, sys_a)\n",
    "push!(example_an, sys_b)\n",
    "push!(example_an, sys_c)\n",
    "push!(example_an, sys_d)\n",
    "push!(example_an, sys_e)\n",
    "push!(example_an, sys_f)\n",
    "push!(example_an, sys_g)\n",
    "push!(example_an, sys_h)\n",
    "\n",
    "# gplot(example_bn.dag, nodelabel=nodes(example_bn))\n",
    "# [v.target for v in example_bn.cpds]"
   ]
  },
  {
   "cell_type": "code",
   "execution_count": null,
   "metadata": {},
   "outputs": [],
   "source": [
    "an = example_an;"
   ]
  },
  {
   "cell_type": "code",
   "execution_count": null,
   "metadata": {},
   "outputs": [],
   "source": [
    "import AcausalNets.Inference: moral_graph\n",
    "mg = moral_graph(an)\n",
    "println(variables_names(an))\n",
    "mg.fadjlist"
   ]
  },
  {
   "cell_type": "code",
   "execution_count": null,
   "metadata": {},
   "outputs": [],
   "source": [
    "import AcausalNets.Inference: triangulate\n",
    "triangulated, clusters = triangulate(mg, an)\n",
    "\n",
    "println(variables_names(an))\n",
    "triangulated.fadjlist"
   ]
  },
  {
   "cell_type": "code",
   "execution_count": null,
   "metadata": {},
   "outputs": [],
   "source": [
    "import AcausalNets.Inference: JoinTree\n",
    "\n",
    "jt = JoinTree(clusters, an);"
   ]
  },
  {
   "cell_type": "code",
   "execution_count": null,
   "metadata": {},
   "outputs": [],
   "source": [
    "import AcausalNets.Inference: initialize\n",
    "\n",
    "init_jt = initialize(jt, an)"
   ]
  },
  {
   "cell_type": "code",
   "execution_count": null,
   "metadata": {},
   "outputs": [],
   "source": [
    "[[ds.variables for ds in cluster] for cluster in propagated_jt.clusters]"
   ]
  },
  {
   "cell_type": "code",
   "execution_count": null,
   "metadata": {},
   "outputs": [],
   "source": [
    "import AcausalNets.Inference: single_message_pass"
   ]
  },
  {
   "cell_type": "code",
   "execution_count": null,
   "metadata": {},
   "outputs": [],
   "source": [
    "# bc from bcd\n",
    "ptrace(init_jt.vertex_to_num[5], [2,2,2], [3])"
   ]
  },
  {
   "cell_type": "code",
   "execution_count": null,
   "metadata": {},
   "outputs": [],
   "source": [
    "# b from abc\n",
    "ptrace(init_jt.vertex_to_num[6], [2,2,2], [1])"
   ]
  },
  {
   "cell_type": "code",
   "execution_count": null,
   "metadata": {},
   "outputs": [],
   "source": [
    "passed = single_message_pass(5, 6, init_jt, an)\n",
    "passed_2 = single_message_pass(6, 5, passed, an);\n",
    "\n",
    "ptrace(passed_2.vertex_to_num[5], [2,2,2], [3])"
   ]
  },
  {
   "cell_type": "code",
   "execution_count": null,
   "metadata": {},
   "outputs": [],
   "source": [
    "ptrace(passed_2.vertex_to_num[6], [2,2,2], [1])\n",
    "# bc in abc and bcd are now consistent"
   ]
  },
  {
   "cell_type": "code",
   "execution_count": null,
   "metadata": {},
   "outputs": [],
   "source": [
    "import AcausalNets.Inference: global_propagation\n",
    "\n",
    "propagated_jt = global_propagation(init_jt, an)"
   ]
  },
  {
   "cell_type": "code",
   "execution_count": null,
   "metadata": {},
   "outputs": [],
   "source": [
    "a = 1\n",
    "a_oper = ketbra(a,a,2)\n",
    "assignments = Dict([\n",
    "        var_a => a_oper\n",
    "        ])\n",
    "\n",
    "initialized_jt = initialize(jt, an, assignments)\n",
    "propagated_jt = global_propagation(initialized_jt, an)\n",
    "propagated_jt.clusters\n",
    "\n",
    "aBC = propagated_jt.vertex_to_num[6]\n",
    "ptrace(aBC, [2,2,2], [2,3])"
   ]
  }
 ],
 "metadata": {
  "kernelspec": {
   "display_name": "Julia 0.7.0",
   "language": "julia",
   "name": "julia-0.7"
  },
  "language_info": {
   "file_extension": ".jl",
   "mimetype": "application/julia",
   "name": "julia",
   "version": "0.7.0"
  }
 },
 "nbformat": 4,
 "nbformat_minor": 2
}
